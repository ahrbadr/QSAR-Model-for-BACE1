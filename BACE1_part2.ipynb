{
  "nbformat": 4,
  "nbformat_minor": 0,
  "metadata": {
    "colab": {
      "name": "BACE1_part2.ipynb",
      "provenance": [],
      "collapsed_sections": [],
      "include_colab_link": true
    },
    "kernelspec": {
      "name": "python3",
      "display_name": "Python 3"
    }
  },
  "cells": [
    {
      "cell_type": "markdown",
      "metadata": {
        "id": "view-in-github",
        "colab_type": "text"
      },
      "source": [
        "<a href=\"https://colab.research.google.com/github/ahrbadr/QSAR-Model-for-BACE1/blob/main/BACE1_part2.ipynb\" target=\"_parent\"><img src=\"https://colab.research.google.com/assets/colab-badge.svg\" alt=\"Open In Colab\"/></a>"
      ]
    },
    {
      "cell_type": "markdown",
      "metadata": {
        "id": "l0Y7_lgN4jzM"
      },
      "source": [
        "# **Computational Drug Discovery [Part 2] Exploratory Data Analysis**\n",
        "\n",
        "\n",
        "\n",
        "---"
      ]
    },
    {
      "cell_type": "markdown",
      "metadata": {
        "id": "o-4IOizard4P"
      },
      "source": [
        "## **Install conda and rdkit**"
      ]
    },
    {
      "cell_type": "code",
      "metadata": {
        "id": "H0mjQ2PcrSe5",
        "colab": {
          "base_uri": "https://localhost:8080/"
        },
        "outputId": "84baf53a-fd20-493f-bb37-336d660688f3"
      },
      "source": [
        "! wget https://repo.anaconda.com/miniconda/Miniconda3-py37_4.8.2-Linux-x86_64.sh\n",
        "! chmod +x Miniconda3-py37_4.8.2-Linux-x86_64.sh\n",
        "! bash ./Miniconda3-py37_4.8.2-Linux-x86_64.sh -b -f -p /usr/local\n",
        "! conda install -c rdkit rdkit -y\n",
        "import sys\n",
        "sys.path.append('/usr/local/lib/python3.7/site-packages/')"
      ],
      "execution_count": null,
      "outputs": [
        {
          "output_type": "stream",
          "text": [
            "--2021-06-21 15:47:40--  https://repo.anaconda.com/miniconda/Miniconda3-py37_4.8.2-Linux-x86_64.sh\n",
            "Resolving repo.anaconda.com (repo.anaconda.com)... 104.16.131.3, 104.16.130.3, 2606:4700::6810:8303, ...\n",
            "Connecting to repo.anaconda.com (repo.anaconda.com)|104.16.131.3|:443... connected.\n",
            "HTTP request sent, awaiting response... 200 OK\n",
            "Length: 85055499 (81M) [application/x-sh]\n",
            "Saving to: ‘Miniconda3-py37_4.8.2-Linux-x86_64.sh.1’\n",
            "\n",
            "Miniconda3-py37_4.8 100%[===================>]  81.12M   140MB/s    in 0.6s    \n",
            "\n",
            "2021-06-21 15:47:41 (140 MB/s) - ‘Miniconda3-py37_4.8.2-Linux-x86_64.sh.1’ saved [85055499/85055499]\n",
            "\n",
            "PREFIX=/usr/local\n",
            "Unpacking payload ...\n",
            "Collecting package metadata (current_repodata.json): - \b\b\\ \b\b| \b\bdone\n",
            "Solving environment: - \b\b\\ \b\b| \b\b/ \b\b- \b\b\\ \b\b| \b\b/ \b\b- \b\b\\ \b\b| \b\b/ \b\b- \b\bfailed with initial frozen solve. Retrying with flexible solve.\n",
            "Solving environment: | \b\b/ \b\b- \b\b\\ \b\b| \b\b/ \b\b- \b\b\\ \b\b| \b\b/ \b\b- \b\b\\ \b\bfailed with repodata from current_repodata.json, will retry with next repodata source.\n",
            "Collecting package metadata (repodata.json): / \b\bdone\n",
            "Solving environment: \\ \b\b| \b\b/ \b\b- \b\b\\ \b\b| \b\b/ \b\b- \b\b\\ \b\b| \b\b/ \b\b- \b\b\\ \b\b| \b\bfailed with initial frozen solve. Retrying with flexible solve.\n",
            "Solving environment: - \b\b\\ \b\b| \b\b/ \b\b- \b\b\\ \b\b| \b\b/ \b\b- \b\b\\ \b\b| \n",
            "Found conflicts! Looking for incompatible packages.\n",
            "This can take several minutes.  Press CTRL-C to abort.\n",
            "\b\b\\ \b\bfailed\n",
            "\n",
            "UnsatisfiableError: The following specifications were found to be incompatible with each other:\n",
            "\n",
            "Output in format: Requested package -> Available versions\n",
            "\n",
            "Package intel-openmp conflicts for:\n",
            "intel-openmp\n",
            "numpy-base -> mkl[version='>=2021.2.0,<2022.0a0'] -> intel-openmp=2021\n",
            "mkl_fft -> mkl[version='>=2021.2.0,<2022.0a0'] -> intel-openmp=2021\n",
            "mkl-service -> mkl[version='>=2021.2.0,<2022.0a0'] -> intel-openmp=2021\n",
            "mkl -> intel-openmp=2021\n",
            "numpy -> mkl[version='>=2021.2.0,<2022.0a0'] -> intel-openmp=2021\n",
            "mkl_random -> mkl[version='>=2021.2.0,<2022.0a0'] -> intel-openmp=2021\n",
            "\n",
            "Package libboost conflicts for:\n",
            "py-boost -> libboost[version='>=1.73.0,<1.73.1.0a0',build=h3ff78a5_11]\n",
            "libboost\n",
            "rdkit -> py-boost -> libboost[version='>=1.73.0,<1.73.1.0a0',build=h3ff78a5_11]\n",
            "rdkit -> libboost[version='>=1.73.0,<1.74.0a0']\n",
            "\n",
            "Package libgcc-ng conflicts for:\n",
            "mkl_random -> libgcc-ng[version='>=7.3.0']\n",
            "pysocks==1.7.1=py37_0 -> python[version='>=3.7,<3.8.0a0'] -> libgcc-ng[version='>=7.3.0']\n",
            "fontconfig -> libuuid[version='>=1.0.3,<2.0a0'] -> libgcc-ng[version='>=7.2.0']\n",
            "ruamel_yaml==0.15.87=py37h7b6447c_0 -> libgcc-ng[version='>=7.3.0']\n",
            "fontconfig -> libgcc-ng[version='>=7.3.0']\n",
            "zlib==1.2.11=h7b6447c_3 -> libgcc-ng[version='>=7.3.0']\n",
            "python==3.7.6=h0371630_2 -> libgcc-ng[version='>=7.3.0']\n",
            "libpng -> libgcc-ng[version='>=7.3.0']\n",
            "libxcb -> libgcc-ng[version='>=7.3.0']\n",
            "pycparser==2.19=py37_0 -> python[version='>=3.7,<3.8.0a0'] -> libgcc-ng[version='>=7.3.0']\n",
            "sqlite==3.31.1=h7b6447c_0 -> libgcc-ng[version='>=7.3.0']\n",
            "xz==5.2.4=h14c3975_4 -> libgcc-ng[version='>=7.2.0']\n",
            "pillow -> libgcc-ng[version='>=7.3.0']\n",
            "conda==4.8.2=py37_0 -> conda-package-handling[version='>=1.3.0'] -> libgcc-ng[version='>=7.3.0']\n",
            "cairo -> libgcc-ng[version='>=7.3.0']\n",
            "tk==8.6.8=hbc83047_0 -> libgcc-ng[version='>=7.3.0']\n",
            "asn1crypto==1.3.0=py37_0 -> python[version='>=3.7,<3.8.0a0'] -> libgcc-ng[version='>=7.3.0']\n",
            "libuuid -> libgcc-ng[version='>=7.2.0']\n",
            "libxml2 -> libgcc-ng[version='>=7.3.0']\n",
            "pillow -> jpeg -> libgcc-ng[version='>=7.2.0']\n",
            "openssl==1.1.1d=h7b6447c_4 -> libgcc-ng[version='>=7.3.0']\n",
            "setuptools==45.2.0=py37_0 -> python[version='>=3.7,<3.8.0a0'] -> libgcc-ng[version='>=7.3.0']\n",
            "jpeg -> libgcc-ng[version='>=7.2.0']\n",
            "olefile -> python[version='>=3.7,<3.8.0a0'] -> libgcc-ng[version='>=7.3.0']\n",
            "libtiff -> jpeg[version='>=9b,<10a'] -> libgcc-ng[version='>=7.2.0']\n",
            "icu -> libgcc-ng[version='>=7.3.0']\n",
            "py-boost -> libgcc-ng[version='>=7.3.0']\n",
            "pyopenssl==19.1.0=py37_0 -> cryptography[version='>=2.8'] -> libgcc-ng[version='>=7.3.0']\n",
            "readline==7.0=h7b6447c_5 -> libgcc-ng[version='>=7.3.0']\n",
            "urllib3==1.25.8=py37_0 -> cryptography[version='>=1.3.4'] -> libgcc-ng[version='>=7.3.0']\n",
            "libffi==3.2.1=hd88cf55_4 -> libgcc-ng[version='>=7.2.0']\n",
            "bzip2 -> libgcc-ng[version='>=7.3.0']\n",
            "pytz -> python -> libgcc-ng[version='>=7.3.0']\n",
            "six==1.14.0=py37_0 -> python[version='>=3.7,<3.8.0a0'] -> libgcc-ng[version='>=7.3.0']\n",
            "conda-package-handling==1.6.0=py37h7b6447c_0 -> libgcc-ng[version='>=7.3.0']\n",
            "rdkit -> libgcc-ng[version='>=7.3.0']\n",
            "requests==2.22.0=py37_1 -> python[version='>=3.7,<3.8.0a0'] -> libgcc-ng[version='>=7.3.0']\n",
            "yaml==0.1.7=had09818_2 -> libgcc-ng[version='>=7.2.0']\n",
            "numpy-base -> libgcc-ng[version='>=7.3.0']\n",
            "lz4-c -> libgcc-ng[version='>=7.3.0']\n",
            "cffi==1.14.0=py37h2e261b9_0 -> libffi[version='>=3.2.1,<4.0a0'] -> libgcc-ng[version='>=7.2.0']\n",
            "libwebp-base -> libgcc-ng[version='>=7.3.0']\n",
            "cffi==1.14.0=py37h2e261b9_0 -> libgcc-ng[version='>=7.3.0']\n",
            "glib -> libgcc-ng[version='>=7.3.0']\n",
            "ruamel_yaml==0.15.87=py37h7b6447c_0 -> yaml[version='>=0.1.7,<0.2.0a0'] -> libgcc-ng[version='>=7.2.0']\n",
            "python-dateutil -> python -> libgcc-ng[version='>=7.3.0']\n",
            "lcms2 -> jpeg[version='>=9b,<10a'] -> libgcc-ng[version='>=7.2.0']\n",
            "libtiff -> libgcc-ng[version='>=7.3.0']\n",
            "pcre -> libgcc-ng[version='>=7.3.0']\n",
            "zstd -> libgcc-ng[version='>=7.3.0']\n",
            "certifi==2019.11.28=py37_0 -> python[version='>=3.7,<3.8.0a0'] -> libgcc-ng[version='>=7.3.0']\n",
            "ncurses==6.2=he6710b0_0 -> libgcc-ng[version='>=7.3.0']\n",
            "libboost -> libgcc-ng[version='>=7.3.0']\n",
            "wheel==0.34.2=py37_0 -> python[version='>=3.7,<3.8.0a0'] -> libgcc-ng[version='>=7.3.0']\n",
            "mkl-service -> libgcc-ng[version='>=7.3.0']\n",
            "pycosat==0.6.3=py37h7b6447c_0 -> libgcc-ng[version='>=7.3.0']\n",
            "lcms2 -> libgcc-ng[version='>=7.3.0']\n",
            "libgcc-ng==9.1.0=hdf63c60_0\n",
            "cryptography==2.8=py37h1ba5d50_0 -> libgcc-ng[version='>=7.3.0']\n",
            "pandas -> libgcc-ng[version='>=7.3.0']\n",
            "numpy -> libgcc-ng[version='>=7.3.0']\n",
            "freetype -> libgcc-ng[version='>=7.3.0']\n",
            "chardet==3.0.4=py37_1003 -> python[version='>=3.7,<3.8.0a0'] -> libgcc-ng[version='>=7.3.0']\n",
            "python==3.7.6=h0371630_2 -> libffi[version='>=3.2.1,<4.0a0'] -> libgcc-ng[version='>=7.2.0']\n",
            "libedit==3.1.20181209=hc058e9b_0 -> libgcc-ng[version='>=7.3.0']\n",
            "idna==2.8=py37_0 -> python[version='>=3.7,<3.8.0a0'] -> libgcc-ng[version='>=7.3.0']\n",
            "mkl_fft -> libgcc-ng[version='>=7.3.0']\n",
            "tqdm==4.42.1=py_0 -> python -> libgcc-ng[version='>=7.3.0']\n",
            "pip==20.0.2=py37_1 -> python[version='>=3.7,<3.8.0a0'] -> libgcc-ng[version='>=7.3.0']\n",
            "pixman -> libgcc-ng[version='>=7.3.0']\n",
            "\n",
            "Package libstdcxx-ng conflicts for:\n",
            "icu -> libstdcxx-ng[version='>=7.3.0']\n",
            "olefile -> python[version='>=3.7,<3.8.0a0'] -> libstdcxx-ng[version='>=7.3.0']\n",
            "python==3.7.6=h0371630_2 -> libffi[version='>=3.2.1,<4.0a0'] -> libstdcxx-ng[version='>=7.2.0']\n",
            "ncurses==6.2=he6710b0_0 -> libstdcxx-ng[version='>=7.3.0']\n",
            "numpy-base -> python[version='>=3.7,<3.8.0a0'] -> libstdcxx-ng[version='>=7.3.0']\n",
            "wheel==0.34.2=py37_0 -> python[version='>=3.7,<3.8.0a0'] -> libstdcxx-ng[version='>=7.3.0']\n",
            "mkl-service -> python[version='>=3.7,<3.8.0a0'] -> libstdcxx-ng[version='>=7.3.0']\n",
            "ruamel_yaml==0.15.87=py37h7b6447c_0 -> python[version='>=3.7,<3.8.0a0'] -> libstdcxx-ng[version='>=7.3.0']\n",
            "pycparser==2.19=py37_0 -> python[version='>=3.7,<3.8.0a0'] -> libstdcxx-ng[version='>=7.3.0']\n",
            "conda==4.8.2=py37_0 -> python[version='>=3.7,<3.8.0a0'] -> libstdcxx-ng[version='>=7.3.0']\n",
            "cffi==1.14.0=py37h2e261b9_0 -> libffi[version='>=3.2.1,<4.0a0'] -> libstdcxx-ng[version='>=7.2.0|>=7.3.0']\n",
            "requests==2.22.0=py37_1 -> python[version='>=3.7,<3.8.0a0'] -> libstdcxx-ng[version='>=7.3.0']\n",
            "lcms2 -> libtiff[version='>=4.1.0,<5.0a0'] -> libstdcxx-ng[version='>=7.3.0']\n",
            "cryptography==2.8=py37h1ba5d50_0 -> python[version='>=3.7,<3.8.0a0'] -> libstdcxx-ng[version='>=7.3.0']\n",
            "chardet==3.0.4=py37_1003 -> python[version='>=3.7,<3.8.0a0'] -> libstdcxx-ng[version='>=7.3.0']\n",
            "pysocks==1.7.1=py37_0 -> python[version='>=3.7,<3.8.0a0'] -> libstdcxx-ng[version='>=7.3.0']\n",
            "asn1crypto==1.3.0=py37_0 -> python[version='>=3.7,<3.8.0a0'] -> libstdcxx-ng[version='>=7.3.0']\n",
            "six==1.14.0=py37_0 -> python[version='>=3.7,<3.8.0a0'] -> libstdcxx-ng[version='>=7.3.0']\n",
            "tqdm==4.42.1=py_0 -> python -> libstdcxx-ng[version='>=7.3.0']\n",
            "numpy -> mkl_fft -> libstdcxx-ng[version='>=7.3.0']\n",
            "pytz -> python -> libstdcxx-ng[version='>=7.3.0']\n",
            "pandas -> libstdcxx-ng[version='>=7.3.0']\n",
            "libtiff -> libstdcxx-ng[version='>=7.3.0']\n",
            "pillow -> libtiff[version='>=4.1.0,<5.0a0'] -> libstdcxx-ng[version='>=7.3.0']\n",
            "libffi==3.2.1=hd88cf55_4 -> libstdcxx-ng[version='>=7.2.0']\n",
            "py-boost -> libstdcxx-ng[version='>=7.3.0']\n",
            "pcre -> libstdcxx-ng[version='>=7.3.0']\n",
            "rdkit -> libstdcxx-ng[version='>=7.3.0']\n",
            "readline==7.0=h7b6447c_5 -> ncurses[version='>=6.1,<7.0a0'] -> libstdcxx-ng[version='>=7.3.0']\n",
            "pycosat==0.6.3=py37h7b6447c_0 -> python[version='>=3.7,<3.8.0a0'] -> libstdcxx-ng[version='>=7.3.0']\n",
            "cairo -> libstdcxx-ng[version='>=7.3.0']\n",
            "libstdcxx-ng==9.1.0=hdf63c60_0\n",
            "pip==20.0.2=py37_1 -> python[version='>=3.7,<3.8.0a0'] -> libstdcxx-ng[version='>=7.3.0']\n",
            "mkl_fft -> libstdcxx-ng[version='>=7.3.0']\n",
            "python-dateutil -> python -> libstdcxx-ng[version='>=7.3.0']\n",
            "libxml2 -> icu[version='>=58.2,<59.0a0'] -> libstdcxx-ng[version='>=7.3.0']\n",
            "certifi==2019.11.28=py37_0 -> python[version='>=3.7,<3.8.0a0'] -> libstdcxx-ng[version='>=7.3.0']\n",
            "pyopenssl==19.1.0=py37_0 -> python[version='>=3.7,<3.8.0a0'] -> libstdcxx-ng[version='>=7.3.0']\n",
            "lz4-c -> libstdcxx-ng[version='>=7.3.0']\n",
            "conda-package-handling==1.6.0=py37h7b6447c_0 -> python[version='>=3.7,<3.8.0a0'] -> libstdcxx-ng[version='>=7.3.0']\n",
            "glib -> libstdcxx-ng[version='>=7.3.0']\n",
            "libboost -> libstdcxx-ng[version='>=7.3.0']\n",
            "zstd -> libstdcxx-ng[version='>=7.3.0']\n",
            "setuptools==45.2.0=py37_0 -> python[version='>=3.7,<3.8.0a0'] -> libstdcxx-ng[version='>=7.3.0']\n",
            "libedit==3.1.20181209=hc058e9b_0 -> ncurses[version='>=6.1,<7.0a0'] -> libstdcxx-ng[version='>=7.3.0']\n",
            "mkl_random -> libstdcxx-ng[version='>=7.3.0']\n",
            "idna==2.8=py37_0 -> python[version='>=3.7,<3.8.0a0'] -> libstdcxx-ng[version='>=7.3.0']\n",
            "python==3.7.6=h0371630_2 -> libstdcxx-ng[version='>=7.3.0']\n",
            "urllib3==1.25.8=py37_0 -> python[version='>=3.7,<3.8.0a0'] -> libstdcxx-ng[version='>=7.3.0']\n",
            "\n",
            "Package six conflicts for:\n",
            "conda-package-handling==1.6.0=py37h7b6447c_0 -> six\n",
            "numpy-base -> mkl-service[version='>=2.3.0,<3.0a0'] -> six\n",
            "six==1.14.0=py37_0\n",
            "pyopenssl==19.1.0=py37_0 -> cryptography[version='>=2.8'] -> six[version='>=1.4.1']\n",
            "cryptography==2.8=py37h1ba5d50_0 -> six[version='>=1.4.1']\n",
            "mkl-service -> six\n",
            "pandas -> python-dateutil[version='>=2.7.3'] -> six[version='>=1.5']\n",
            "numpy -> mkl-service[version='>=2.3.0,<3.0a0'] -> six\n",
            "python-dateutil -> six[version='>=1.5']\n",
            "mkl_fft -> mkl-service[version='>=2.3.0,<3.0a0'] -> six\n",
            "urllib3==1.25.8=py37_0 -> cryptography[version='>=1.3.4'] -> six[version='>=1.4.1|>=1.5.2']\n",
            "mkl_random -> mkl-service[version='>=2.3.0,<3.0a0'] -> six\n",
            "pyopenssl==19.1.0=py37_0 -> six[version='>=1.5.2']\n",
            "conda==4.8.2=py37_0 -> conda-package-handling[version='>=1.3.0'] -> six[version='>=1.5.2']\n",
            "\n",
            "Package yaml conflicts for:\n",
            "yaml==0.1.7=had09818_2\n",
            "ruamel_yaml==0.15.87=py37h7b6447c_0 -> yaml[version='>=0.1.7,<0.2.0a0']\n",
            "conda==4.8.2=py37_0 -> ruamel_yaml[version='>=0.11.14,<0.16'] -> yaml[version='>=0.1.7,<0.2.0a0']\n",
            "\n",
            "Package ncurses conflicts for:\n",
            "pycparser==2.19=py37_0 -> python[version='>=3.7,<3.8.0a0'] -> ncurses[version='>=6.1,<7.0a0']\n",
            "conda==4.8.2=py37_0 -> python[version='>=3.7,<3.8.0a0'] -> ncurses[version='>=6.1,<7.0a0']\n",
            "ncurses==6.2=he6710b0_0\n",
            "mkl_random -> python[version='>=3.7,<3.8.0a0'] -> ncurses[version='>=6.1,<7.0a0']\n",
            "numpy-base -> python[version='>=3.7,<3.8.0a0'] -> ncurses[version='>=6.1,<7.0a0']\n",
            "pandas -> python[version='>=3.7,<3.8.0a0'] -> ncurses[version='>=6.1,<7.0a0']\n",
            "requests==2.22.0=py37_1 -> python[version='>=3.7,<3.8.0a0'] -> ncurses[version='>=6.1,<7.0a0']\n",
            "chardet==3.0.4=py37_1003 -> python[version='>=3.7,<3.8.0a0'] -> ncurses[version='>=6.1,<7.0a0']\n",
            "mkl-service -> python[version='>=3.7,<3.8.0a0'] -> ncurses[version='>=6.1,<7.0a0']\n",
            "pycosat==0.6.3=py37h7b6447c_0 -> python[version='>=3.7,<3.8.0a0'] -> ncurses[version='>=6.1,<7.0a0']\n",
            "pyopenssl==19.1.0=py37_0 -> python[version='>=3.7,<3.8.0a0'] -> ncurses[version='>=6.1,<7.0a0']\n",
            "tqdm==4.42.1=py_0 -> python -> ncurses[version='>=6.1,<7.0a0']\n",
            "readline==7.0=h7b6447c_5 -> ncurses[version='>=6.1,<7.0a0']\n",
            "mkl_fft -> python[version='>=3.7,<3.8.0a0'] -> ncurses[version='>=6.1,<7.0a0']\n",
            "python==3.7.6=h0371630_2 -> ncurses[version='>=6.1,<7.0a0']\n",
            "rdkit -> python[version='>=3.7,<3.8.0a0'] -> ncurses[version='>=6.1,<7.0a0']\n",
            "setuptools==45.2.0=py37_0 -> python[version='>=3.7,<3.8.0a0'] -> ncurses[version='>=6.1,<7.0a0']\n",
            "py-boost -> python[version='>=3.7,<3.8.0a0'] -> ncurses[version='>=6.1,<7.0a0']\n",
            "certifi==2019.11.28=py37_0 -> python[version='>=3.7,<3.8.0a0'] -> ncurses[version='>=6.1,<7.0a0']\n",
            "asn1crypto==1.3.0=py37_0 -> python[version='>=3.7,<3.8.0a0'] -> ncurses[version='>=6.1,<7.0a0']\n",
            "conda-package-handling==1.6.0=py37h7b6447c_0 -> python[version='>=3.7,<3.8.0a0'] -> ncurses[version='>=6.1,<7.0a0']\n",
            "olefile -> python[version='>=3.7,<3.8.0a0'] -> ncurses[version='>=6.1,<7.0a0']\n",
            "python-dateutil -> python -> ncurses[version='>=6.1,<7.0a0']\n",
            "libedit==3.1.20181209=hc058e9b_0 -> ncurses[version='>=6.1,<7.0a0']\n",
            "wheel==0.34.2=py37_0 -> python[version='>=3.7,<3.8.0a0'] -> ncurses[version='>=6.1,<7.0a0']\n",
            "urllib3==1.25.8=py37_0 -> python[version='>=3.7,<3.8.0a0'] -> ncurses[version='>=6.1,<7.0a0']\n",
            "pysocks==1.7.1=py37_0 -> python[version='>=3.7,<3.8.0a0'] -> ncurses[version='>=6.1,<7.0a0']\n",
            "pip==20.0.2=py37_1 -> python[version='>=3.7,<3.8.0a0'] -> ncurses[version='>=6.1,<7.0a0']\n",
            "idna==2.8=py37_0 -> python[version='>=3.7,<3.8.0a0'] -> ncurses[version='>=6.1,<7.0a0']\n",
            "numpy -> python[version='>=3.7,<3.8.0a0'] -> ncurses[version='>=6.1,<7.0a0']\n",
            "pytz -> python -> ncurses[version='>=6.1,<7.0a0']\n",
            "ruamel_yaml==0.15.87=py37h7b6447c_0 -> python[version='>=3.7,<3.8.0a0'] -> ncurses[version='>=6.1,<7.0a0']\n",
            "cryptography==2.8=py37h1ba5d50_0 -> python[version='>=3.7,<3.8.0a0'] -> ncurses[version='>=6.1,<7.0a0']\n",
            "pillow -> python[version='>=3.7,<3.8.0a0'] -> ncurses[version='>=6.1,<7.0a0']\n",
            "cffi==1.14.0=py37h2e261b9_0 -> python[version='>=3.7,<3.8.0a0'] -> ncurses[version='>=6.1,<7.0a0']\n",
            "six==1.14.0=py37_0 -> python[version='>=3.7,<3.8.0a0'] -> ncurses[version='>=6.1,<7.0a0']\n",
            "sqlite==3.31.1=h7b6447c_0 -> libedit[version='>=3.1.20181209,<3.2.0a0'] -> ncurses[version='>=6.1,<7.0a0']\n",
            "\n",
            "Package libedit conflicts for:\n",
            "libedit==3.1.20181209=hc058e9b_0\n",
            "python==3.7.6=h0371630_2 -> sqlite[version='>=3.30.1,<4.0a0'] -> libedit[version='>=3.1.20181209,<3.2.0a0']\n",
            "sqlite==3.31.1=h7b6447c_0 -> libedit[version='>=3.1.20181209,<3.2.0a0']\n",
            "\n",
            "Package zlib conflicts for:\n",
            "tqdm==4.42.1=py_0 -> python -> zlib[version='>=1.2.11,<1.3.0a0']\n",
            "pycparser==2.19=py37_0 -> python[version='>=3.7,<3.8.0a0'] -> zlib[version='>=1.2.11,<1.3.0a0']\n",
            "olefile -> python[version='>=3.7,<3.8.0a0'] -> zlib[version='>=1.2.11,<1.3.0a0']\n",
            "mkl_random -> python[version='>=3.7,<3.8.0a0'] -> zlib[version='>=1.2.11,<1.3.0a0']\n",
            "libpng -> zlib[version='>=1.2.11,<1.3.0a0']\n",
            "cairo -> zlib[version='>=1.2.11,<1.3.0a0']\n",
            "libboost -> zlib[version='>=1.2.11,<1.3.0a0']\n",
            "conda-package-handling==1.6.0=py37h7b6447c_0 -> python[version='>=3.7,<3.8.0a0'] -> zlib[version='>=1.2.11,<1.3.0a0']\n",
            "pandas -> python[version='>=3.7,<3.8.0a0'] -> zlib[version='>=1.2.11,<1.3.0a0']\n",
            "idna==2.8=py37_0 -> python[version='>=3.7,<3.8.0a0'] -> zlib[version='>=1.2.11,<1.3.0a0']\n",
            "certifi==2019.11.28=py37_0 -> python[version='>=3.7,<3.8.0a0'] -> zlib[version='>=1.2.11,<1.3.0a0']\n",
            "six==1.14.0=py37_0 -> python[version='>=3.7,<3.8.0a0'] -> zlib[version='>=1.2.11,<1.3.0a0']\n",
            "pillow -> zlib[version='>=1.2.11,<1.3.0a0']\n",
            "urllib3==1.25.8=py37_0 -> python[version='>=3.7,<3.8.0a0'] -> zlib[version='>=1.2.11,<1.3.0a0']\n",
            "requests==2.22.0=py37_1 -> python[version='>=3.7,<3.8.0a0'] -> zlib[version='>=1.2.11,<1.3.0a0']\n",
            "tk==8.6.8=hbc83047_0 -> zlib[version='>=1.2.11,<1.3.0a0']\n",
            "py-boost -> libboost[version='>=1.73.0,<1.73.1.0a0',build=h3ff78a5_11] -> zlib[version='>=1.2.11,<1.3.0a0']\n",
            "python-dateutil -> python -> zlib[version='>=1.2.11,<1.3.0a0']\n",
            "zlib==1.2.11=h7b6447c_3\n",
            "numpy-base -> python[version='>=3.7,<3.8.0a0'] -> zlib[version='>=1.2.11,<1.3.0a0']\n",
            "libtiff -> zlib[version='>=1.2.11,<1.3.0a0']\n",
            "freetype -> zlib[version='>=1.2.11,<1.3.0a0']\n",
            "setuptools==45.2.0=py37_0 -> python[version='>=3.7,<3.8.0a0'] -> zlib[version='>=1.2.11,<1.3.0a0']\n",
            "pycosat==0.6.3=py37h7b6447c_0 -> python[version='>=3.7,<3.8.0a0'] -> zlib[version='>=1.2.11,<1.3.0a0']\n",
            "python==3.7.6=h0371630_2 -> zlib[version='>=1.2.11,<1.3.0a0']\n",
            "pytz -> python -> zlib[version='>=1.2.11,<1.3.0a0']\n",
            "asn1crypto==1.3.0=py37_0 -> python[version='>=3.7,<3.8.0a0'] -> zlib[version='>=1.2.11,<1.3.0a0']\n",
            "mkl_fft -> python[version='>=3.7,<3.8.0a0'] -> zlib[version='>=1.2.11,<1.3.0a0']\n",
            "mkl-service -> python[version='>=3.7,<3.8.0a0'] -> zlib[version='>=1.2.11,<1.3.0a0']\n",
            "pip==20.0.2=py37_1 -> python[version='>=3.7,<3.8.0a0'] -> zlib[version='>=1.2.11,<1.3.0a0']\n",
            "pyopenssl==19.1.0=py37_0 -> python[version='>=3.7,<3.8.0a0'] -> zlib[version='>=1.2.11,<1.3.0a0']\n",
            "libxml2 -> zlib[version='>=1.2.11,<1.3.0a0']\n",
            "fontconfig -> freetype[version='>=2.10.4,<3.0a0'] -> zlib[version='>=1.2.11,<1.3.0a0']\n",
            "chardet==3.0.4=py37_1003 -> python[version='>=3.7,<3.8.0a0'] -> zlib[version='>=1.2.11,<1.3.0a0']\n",
            "cffi==1.14.0=py37h2e261b9_0 -> python[version='>=3.7,<3.8.0a0'] -> zlib[version='>=1.2.11,<1.3.0a0']\n",
            "zstd -> zlib[version='>=1.2.11,<1.3.0a0']\n",
            "lcms2 -> libtiff[version='>=4.1.0,<5.0a0'] -> zlib[version='>=1.2.11,<1.3.0a0']\n",
            "numpy -> python[version='>=3.7,<3.8.0a0'] -> zlib[version='>=1.2.11,<1.3.0a0']\n",
            "rdkit -> cairo[version='>=1.14.12,<2.0a0'] -> zlib[version='>=1.2.11,<1.3.0a0']\n",
            "cryptography==2.8=py37h1ba5d50_0 -> python[version='>=3.7,<3.8.0a0'] -> zlib[version='>=1.2.11,<1.3.0a0']\n",
            "ruamel_yaml==0.15.87=py37h7b6447c_0 -> python[version='>=3.7,<3.8.0a0'] -> zlib[version='>=1.2.11,<1.3.0a0']\n",
            "pysocks==1.7.1=py37_0 -> python[version='>=3.7,<3.8.0a0'] -> zlib[version='>=1.2.11,<1.3.0a0']\n",
            "glib -> zlib[version='>=1.2.11,<1.3.0a0']\n",
            "conda==4.8.2=py37_0 -> python[version='>=3.7,<3.8.0a0'] -> zlib[version='>=1.2.11,<1.3.0a0']\n",
            "wheel==0.34.2=py37_0 -> python[version='>=3.7,<3.8.0a0'] -> zlib[version='>=1.2.11,<1.3.0a0']\n",
            "\n",
            "Package tk conflicts for:\n",
            "pip==20.0.2=py37_1 -> python[version='>=3.7,<3.8.0a0'] -> tk[version='>=8.6.8,<8.7.0a0']\n",
            "setuptools==45.2.0=py37_0 -> python[version='>=3.7,<3.8.0a0'] -> tk[version='>=8.6.8,<8.7.0a0']\n",
            "tqdm==4.42.1=py_0 -> python -> tk[version='>=8.6.8,<8.7.0a0']\n",
            "tk==8.6.8=hbc83047_0\n",
            "rdkit -> pillow -> tk[version='>=8.6.8,<8.7.0a0']\n",
            "mkl-service -> python[version='>=3.7,<3.8.0a0'] -> tk[version='>=8.6.8,<8.7.0a0']\n",
            "python==3.7.6=h0371630_2 -> tk[version='>=8.6.8,<8.7.0a0']\n",
            "chardet==3.0.4=py37_1003 -> python[version='>=3.7,<3.8.0a0'] -> tk[version='>=8.6.8,<8.7.0a0']\n",
            "six==1.14.0=py37_0 -> python[version='>=3.7,<3.8.0a0'] -> tk[version='>=8.6.8,<8.7.0a0']\n",
            "pycparser==2.19=py37_0 -> python[version='>=3.7,<3.8.0a0'] -> tk[version='>=8.6.8,<8.7.0a0']\n",
            "numpy-base -> python[version='>=3.7,<3.8.0a0'] -> tk[version='>=8.6.8,<8.7.0a0']\n",
            "olefile -> python[version='>=3.7,<3.8.0a0'] -> tk[version='>=8.6.8,<8.7.0a0']\n",
            "wheel==0.34.2=py37_0 -> python[version='>=3.7,<3.8.0a0'] -> tk[version='>=8.6.8,<8.7.0a0']\n",
            "pyopenssl==19.1.0=py37_0 -> python[version='>=3.7,<3.8.0a0'] -> tk[version='>=8.6.8,<8.7.0a0']\n",
            "ruamel_yaml==0.15.87=py37h7b6447c_0 -> python[version='>=3.7,<3.8.0a0'] -> tk[version='>=8.6.8,<8.7.0a0']\n",
            "certifi==2019.11.28=py37_0 -> python[version='>=3.7,<3.8.0a0'] -> tk[version='>=8.6.8,<8.7.0a0']\n",
            "pycosat==0.6.3=py37h7b6447c_0 -> python[version='>=3.7,<3.8.0a0'] -> tk[version='>=8.6.8,<8.7.0a0']\n",
            "pillow -> python[version='>=3.7,<3.8.0a0'] -> tk[version='>=8.6.8,<8.7.0a0']\n",
            "pysocks==1.7.1=py37_0 -> python[version='>=3.7,<3.8.0a0'] -> tk[version='>=8.6.8,<8.7.0a0']\n",
            "requests==2.22.0=py37_1 -> python[version='>=3.7,<3.8.0a0'] -> tk[version='>=8.6.8,<8.7.0a0']\n",
            "idna==2.8=py37_0 -> python[version='>=3.7,<3.8.0a0'] -> tk[version='>=8.6.8,<8.7.0a0']\n",
            "cffi==1.14.0=py37h2e261b9_0 -> python[version='>=3.7,<3.8.0a0'] -> tk[version='>=8.6.8,<8.7.0a0']\n",
            "pytz -> python -> tk[version='>=8.6.8,<8.7.0a0']\n",
            "pillow -> tk\n",
            "python-dateutil -> python -> tk[version='>=8.6.8,<8.7.0a0']\n",
            "pandas -> python[version='>=3.7,<3.8.0a0'] -> tk[version='>=8.6.8,<8.7.0a0']\n",
            "conda==4.8.2=py37_0 -> python[version='>=3.7,<3.8.0a0'] -> tk[version='>=8.6.8,<8.7.0a0']\n",
            "urllib3==1.25.8=py37_0 -> python[version='>=3.7,<3.8.0a0'] -> tk[version='>=8.6.8,<8.7.0a0']\n",
            "numpy -> python[version='>=3.7,<3.8.0a0'] -> tk[version='>=8.6.8,<8.7.0a0']\n",
            "mkl_random -> python[version='>=3.7,<3.8.0a0'] -> tk[version='>=8.6.8,<8.7.0a0']\n",
            "asn1crypto==1.3.0=py37_0 -> python[version='>=3.7,<3.8.0a0'] -> tk[version='>=8.6.8,<8.7.0a0']\n",
            "cryptography==2.8=py37h1ba5d50_0 -> python[version='>=3.7,<3.8.0a0'] -> tk[version='>=8.6.8,<8.7.0a0']\n",
            "conda-package-handling==1.6.0=py37h7b6447c_0 -> python[version='>=3.7,<3.8.0a0'] -> tk[version='>=8.6.8,<8.7.0a0']\n",
            "mkl_fft -> python[version='>=3.7,<3.8.0a0'] -> tk[version='>=8.6.8,<8.7.0a0']\n",
            "py-boost -> python[version='>=3.7,<3.8.0a0'] -> tk[version='>=8.6.8,<8.7.0a0']\n",
            "\n",
            "Package _libgcc_mutex conflicts for:\n",
            "ruamel_yaml==0.15.87=py37h7b6447c_0 -> libgcc-ng[version='>=7.3.0'] -> _libgcc_mutex=[build=main]\n",
            "libboost -> libgcc-ng[version='>=7.3.0'] -> _libgcc_mutex=[build=main]\n",
            "fontconfig -> libgcc-ng[version='>=7.3.0'] -> _libgcc_mutex=[build=main]\n",
            "pillow -> libgcc-ng[version='>=7.3.0'] -> _libgcc_mutex=[build=main]\n",
            "numpy-base -> libgcc-ng[version='>=7.3.0'] -> _libgcc_mutex=[build=main]\n",
            "yaml==0.1.7=had09818_2 -> libgcc-ng[version='>=7.2.0'] -> _libgcc_mutex=[build=main]\n",
            "libpng -> libgcc-ng[version='>=7.3.0'] -> _libgcc_mutex=[build=main]\n",
            "numpy -> libgcc-ng[version='>=7.3.0'] -> _libgcc_mutex=[build=main]\n",
            "icu -> libgcc-ng[version='>=7.3.0'] -> _libgcc_mutex=[build=main]\n",
            "cffi==1.14.0=py37h2e261b9_0 -> libgcc-ng[version='>=7.3.0'] -> _libgcc_mutex=[build=main]\n",
            "glib -> libgcc-ng[version='>=7.3.0'] -> _libgcc_mutex=[build=main]\n",
            "pixman -> libgcc-ng[version='>=7.3.0'] -> _libgcc_mutex=[build=main]\n",
            "zlib==1.2.11=h7b6447c_3 -> libgcc-ng[version='>=7.3.0'] -> _libgcc_mutex=[build=main]\n",
            "_libgcc_mutex==0.1=main\n",
            "libtiff -> libgcc-ng[version='>=7.3.0'] -> _libgcc_mutex=[build=main]\n",
            "libuuid -> libgcc-ng[version='>=7.2.0'] -> _libgcc_mutex=[build=main]\n",
            "mkl_fft -> libgcc-ng[version='>=7.3.0'] -> _libgcc_mutex=[build=main]\n",
            "jpeg -> libgcc-ng[version='>=7.2.0'] -> _libgcc_mutex=[build=main]\n",
            "openssl==1.1.1d=h7b6447c_4 -> libgcc-ng[version='>=7.3.0'] -> _libgcc_mutex=[build=main]\n",
            "libwebp-base -> libgcc-ng[version='>=7.3.0'] -> _libgcc_mutex=[build=main]\n",
            "mkl-service -> libgcc-ng[version='>=7.3.0'] -> _libgcc_mutex=[build=main]\n",
            "libxml2 -> libgcc-ng[version='>=7.3.0'] -> _libgcc_mutex=[build=main]\n",
            "readline==7.0=h7b6447c_5 -> libgcc-ng[version='>=7.3.0'] -> _libgcc_mutex=[build=main]\n",
            "pandas -> libgcc-ng[version='>=7.3.0'] -> _libgcc_mutex=[build=main]\n",
            "rdkit -> libgcc-ng[version='>=7.3.0'] -> _libgcc_mutex=[build=main]\n",
            "ncurses==6.2=he6710b0_0 -> libgcc-ng[version='>=7.3.0'] -> _libgcc_mutex=[build=main]\n",
            "py-boost -> libgcc-ng[version='>=7.3.0'] -> _libgcc_mutex=[build=main]\n",
            "pcre -> libgcc-ng[version='>=7.3.0'] -> _libgcc_mutex=[build=main]\n",
            "bzip2 -> libgcc-ng[version='>=7.3.0'] -> _libgcc_mutex=[build=main]\n",
            "pycosat==0.6.3=py37h7b6447c_0 -> libgcc-ng[version='>=7.3.0'] -> _libgcc_mutex=[build=main]\n",
            "cryptography==2.8=py37h1ba5d50_0 -> libgcc-ng[version='>=7.3.0'] -> _libgcc_mutex=[build=main]\n",
            "xz==5.2.4=h14c3975_4 -> libgcc-ng[version='>=7.2.0'] -> _libgcc_mutex=[build=main]\n",
            "cairo -> libgcc-ng[version='>=7.3.0'] -> _libgcc_mutex=[build=main]\n",
            "libxcb -> libgcc-ng[version='>=7.3.0'] -> _libgcc_mutex=[build=main]\n",
            "sqlite==3.31.1=h7b6447c_0 -> libgcc-ng[version='>=7.3.0'] -> _libgcc_mutex=[build=main]\n",
            "freetype -> libgcc-ng[version='>=7.3.0'] -> _libgcc_mutex=[build=main]\n",
            "conda-package-handling==1.6.0=py37h7b6447c_0 -> libgcc-ng[version='>=7.3.0'] -> _libgcc_mutex=[build=main]\n",
            "libgcc-ng==9.1.0=hdf63c60_0 -> _libgcc_mutex=[build=main]\n",
            "libedit==3.1.20181209=hc058e9b_0 -> libgcc-ng[version='>=7.3.0'] -> _libgcc_mutex=[build=main]\n",
            "lz4-c -> libgcc-ng[version='>=7.3.0'] -> _libgcc_mutex=[build=main]\n",
            "tk==8.6.8=hbc83047_0 -> libgcc-ng[version='>=7.3.0'] -> _libgcc_mutex=[build=main]\n",
            "libffi==3.2.1=hd88cf55_4 -> libgcc-ng[version='>=7.2.0'] -> _libgcc_mutex=[build=main]\n",
            "mkl_random -> libgcc-ng[version='>=7.3.0'] -> _libgcc_mutex=[build=main]\n",
            "zstd -> libgcc-ng[version='>=7.3.0'] -> _libgcc_mutex=[build=main]\n",
            "python==3.7.6=h0371630_2 -> libgcc-ng[version='>=7.3.0'] -> _libgcc_mutex=[build=main]\n",
            "lcms2 -> libgcc-ng[version='>=7.3.0'] -> _libgcc_mutex=[build=main]\n",
            "\n",
            "Package certifi conflicts for:\n",
            "wheel==0.34.2=py37_0 -> setuptools -> certifi[version='>=2016.9.26']\n",
            "pip==20.0.2=py37_1 -> setuptools -> certifi[version='>=2016.9.26']\n",
            "setuptools==45.2.0=py37_0 -> certifi[version='>=2016.9.26']\n",
            "certifi==2019.11.28=py37_0\n",
            "requests==2.22.0=py37_1 -> certifi[version='>=2017.4.17']\n",
            "conda==4.8.2=py37_0 -> requests[version='>=2.18.4,<3'] -> certifi[version='>=2016.9.26|>=2017.4.17']\n",
            "requests==2.22.0=py37_1 -> urllib3[version='>=1.21.1,<1.26,!=1.25.0,!=1.25.1'] -> certifi\n",
            "urllib3==1.25.8=py37_0 -> certifi\n",
            "\n",
            "Package ld_impl_linux-64 conflicts for:\n",
            "idna==2.8=py37_0 -> python[version='>=3.7,<3.8.0a0'] -> ld_impl_linux-64\n",
            "pycparser==2.19=py37_0 -> python[version='>=3.7,<3.8.0a0'] -> ld_impl_linux-64\n",
            "python-dateutil -> python -> ld_impl_linux-64\n",
            "mkl_random -> python[version='>=3.7,<3.8.0a0'] -> ld_impl_linux-64\n",
            "chardet==3.0.4=py37_1003 -> python[version='>=3.7,<3.8.0a0'] -> ld_impl_linux-64\n",
            "numpy -> python[version='>=3.7,<3.8.0a0'] -> ld_impl_linux-64\n",
            "py-boost -> python[version='>=3.7,<3.8.0a0'] -> ld_impl_linux-64\n",
            "certifi==2019.11.28=py37_0 -> python[version='>=3.7,<3.8.0a0'] -> ld_impl_linux-64\n",
            "pytz -> python -> ld_impl_linux-64\n",
            "pyopenssl==19.1.0=py37_0 -> python[version='>=3.7,<3.8.0a0'] -> ld_impl_linux-64\n",
            "cryptography==2.8=py37h1ba5d50_0 -> python[version='>=3.7,<3.8.0a0'] -> ld_impl_linux-64\n",
            "six==1.14.0=py37_0 -> python[version='>=3.7,<3.8.0a0'] -> ld_impl_linux-64\n",
            "mkl-service -> python[version='>=3.7,<3.8.0a0'] -> ld_impl_linux-64\n",
            "pip==20.0.2=py37_1 -> python[version='>=3.7,<3.8.0a0'] -> ld_impl_linux-64\n",
            "pycosat==0.6.3=py37h7b6447c_0 -> python[version='>=3.7,<3.8.0a0'] -> ld_impl_linux-64\n",
            "tqdm==4.42.1=py_0 -> python -> ld_impl_linux-64\n",
            "numpy-base -> python[version='>=3.7,<3.8.0a0'] -> ld_impl_linux-64\n",
            "setuptools==45.2.0=py37_0 -> python[version='>=3.7,<3.8.0a0'] -> ld_impl_linux-64\n",
            "pillow -> python[version='>=3.7,<3.8.0a0'] -> ld_impl_linux-64\n",
            "requests==2.22.0=py37_1 -> python[version='>=3.7,<3.8.0a0'] -> ld_impl_linux-64\n",
            "python==3.7.6=h0371630_2 -> ld_impl_linux-64\n",
            "pysocks==1.7.1=py37_0 -> python[version='>=3.7,<3.8.0a0'] -> ld_impl_linux-64\n",
            "conda==4.8.2=py37_0 -> python[version='>=3.7,<3.8.0a0'] -> ld_impl_linux-64\n",
            "conda-package-handling==1.6.0=py37h7b6447c_0 -> python[version='>=3.7,<3.8.0a0'] -> ld_impl_linux-64\n",
            "ruamel_yaml==0.15.87=py37h7b6447c_0 -> python[version='>=3.7,<3.8.0a0'] -> ld_impl_linux-64\n",
            "pandas -> python[version='>=3.7,<3.8.0a0'] -> ld_impl_linux-64\n",
            "rdkit -> python[version='>=3.7,<3.8.0a0'] -> ld_impl_linux-64\n",
            "ld_impl_linux-64==2.33.1=h53a641e_7\n",
            "asn1crypto==1.3.0=py37_0 -> python[version='>=3.7,<3.8.0a0'] -> ld_impl_linux-64\n",
            "wheel==0.34.2=py37_0 -> python[version='>=3.7,<3.8.0a0'] -> ld_impl_linux-64\n",
            "cffi==1.14.0=py37h2e261b9_0 -> python[version='>=3.7,<3.8.0a0'] -> ld_impl_linux-64\n",
            "mkl_fft -> python[version='>=3.7,<3.8.0a0'] -> ld_impl_linux-64\n",
            "olefile -> python[version='>=3.7,<3.8.0a0'] -> ld_impl_linux-64\n",
            "urllib3==1.25.8=py37_0 -> python[version='>=3.7,<3.8.0a0'] -> ld_impl_linux-64\n",
            "\n",
            "Package blas conflicts for:\n",
            "rdkit -> numpy[version='>=1.12'] -> blas==1.0=mkl\n",
            "blas\n",
            "mkl_random -> numpy[version='>=1.16,<2.0a0'] -> blas==1.0=mkl\n",
            "mkl_fft -> blas==1.0=mkl\n",
            "numpy-base -> blas==1.0=mkl\n",
            "numpy -> mkl_random -> blas=[build=mkl]\n",
            "mkl_random -> blas=[build=mkl]\n",
            "numpy -> blas==1.0=mkl\n",
            "pandas -> numpy[version='>=1.19.2,<2.0a0'] -> blas==1.0=mkl\n",
            "\n",
            "Package readline conflicts for:\n",
            "pycosat==0.6.3=py37h7b6447c_0 -> python[version='>=3.7,<3.8.0a0'] -> readline[version='>=7.0,<8.0a0']\n",
            "pillow -> python[version='>=3.7,<3.8.0a0'] -> readline[version='>=7.0,<8.0a0']\n",
            "cffi==1.14.0=py37h2e261b9_0 -> python[version='>=3.7,<3.8.0a0'] -> readline[version='>=7.0,<8.0a0']\n",
            "readline==7.0=h7b6447c_5\n",
            "ruamel_yaml==0.15.87=py37h7b6447c_0 -> python[version='>=3.7,<3.8.0a0'] -> readline[version='>=7.0,<8.0a0']\n",
            "idna==2.8=py37_0 -> python[version='>=3.7,<3.8.0a0'] -> readline[version='>=7.0,<8.0a0']\n",
            "pytz -> python -> readline[version='>=7.0,<8.0a0']\n",
            "six==1.14.0=py37_0 -> python[version='>=3.7,<3.8.0a0'] -> readline[version='>=7.0,<8.0a0']\n",
            "rdkit -> python[version='>=3.7,<3.8.0a0'] -> readline[version='>=7.0,<8.0a0']\n",
            "conda==4.8.2=py37_0 -> python[version='>=3.7,<3.8.0a0'] -> readline[version='>=7.0,<8.0a0']\n",
            "mkl-service -> python[version='>=3.7,<3.8.0a0'] -> readline[version='>=7.0,<8.0a0']\n",
            "tqdm==4.42.1=py_0 -> python -> readline[version='>=7.0,<8.0a0']\n",
            "pyopenssl==19.1.0=py37_0 -> python[version='>=3.7,<3.8.0a0'] -> readline[version='>=7.0,<8.0a0']\n",
            "requests==2.22.0=py37_1 -> python[version='>=3.7,<3.8.0a0'] -> readline[version='>=7.0,<8.0a0']\n",
            "setuptools==45.2.0=py37_0 -> python[version='>=3.7,<3.8.0a0'] -> readline[version='>=7.0,<8.0a0']\n",
            "pycparser==2.19=py37_0 -> python[version='>=3.7,<3.8.0a0'] -> readline[version='>=7.0,<8.0a0']\n",
            "mkl_fft -> python[version='>=3.7,<3.8.0a0'] -> readline[version='>=7.0,<8.0a0']\n",
            "wheel==0.34.2=py37_0 -> python[version='>=3.7,<3.8.0a0'] -> readline[version='>=7.0,<8.0a0']\n",
            "asn1crypto==1.3.0=py37_0 -> python[version='>=3.7,<3.8.0a0'] -> readline[version='>=7.0,<8.0a0']\n",
            "pandas -> python[version='>=3.7,<3.8.0a0'] -> readline[version='>=7.0,<8.0a0']\n",
            "numpy-base -> python[version='>=3.7,<3.8.0a0'] -> readline[version='>=7.0,<8.0a0']\n",
            "pip==20.0.2=py37_1 -> python[version='>=3.7,<3.8.0a0'] -> readline[version='>=7.0,<8.0a0']\n",
            "olefile -> python[version='>=3.7,<3.8.0a0'] -> readline[version='>=7.0,<8.0a0']\n",
            "mkl_random -> python[version='>=3.7,<3.8.0a0'] -> readline[version='>=7.0,<8.0a0']\n",
            "python==3.7.6=h0371630_2 -> readline[version='>=7.0,<8.0a0']\n",
            "certifi==2019.11.28=py37_0 -> python[version='>=3.7,<3.8.0a0'] -> readline[version='>=7.0,<8.0a0']\n",
            "python-dateutil -> python -> readline[version='>=7.0,<8.0a0']\n",
            "conda-package-handling==1.6.0=py37h7b6447c_0 -> python[version='>=3.7,<3.8.0a0'] -> readline[version='>=7.0,<8.0a0']\n",
            "pysocks==1.7.1=py37_0 -> python[version='>=3.7,<3.8.0a0'] -> readline[version='>=7.0,<8.0a0']\n",
            "numpy -> python[version='>=3.7,<3.8.0a0'] -> readline[version='>=7.0,<8.0a0']\n",
            "py-boost -> python[version='>=3.7,<3.8.0a0'] -> readline[version='>=7.0,<8.0a0']\n",
            "cryptography==2.8=py37h1ba5d50_0 -> python[version='>=3.7,<3.8.0a0'] -> readline[version='>=7.0,<8.0a0']\n",
            "chardet==3.0.4=py37_1003 -> python[version='>=3.7,<3.8.0a0'] -> readline[version='>=7.0,<8.0a0']\n",
            "urllib3==1.25.8=py37_0 -> python[version='>=3.7,<3.8.0a0'] -> readline[version='>=7.0,<8.0a0']\n",
            "\n",
            "Package python conflicts for:\n",
            "pandas -> python-dateutil[version='>=2.7.3'] -> python\n",
            "py-boost -> python[version='>=3.7,<3.8.0a0']\n",
            "requests==2.22.0=py37_1 -> python[version='>=3.7,<3.8.0a0']\n",
            "pycosat==0.6.3=py37h7b6447c_0 -> python[version='>=3.7,<3.8.0a0']\n",
            "olefile -> python[version='>=3.7,<3.8.0a0']\n",
            "pandas -> python[version='>=3.7,<3.8.0a0']\n",
            "setuptools==45.2.0=py37_0 -> python[version='>=3.7,<3.8.0a0']\n",
            "cryptography==2.8=py37h1ba5d50_0 -> python[version='>=3.7,<3.8.0a0']\n",
            "six==1.14.0=py37_0 -> python[version='>=3.7,<3.8.0a0']\n",
            "mkl_random -> python[version='>=3.7,<3.8.0a0']\n",
            "urllib3==1.25.8=py37_0 -> python[version='>=3.7,<3.8.0a0']\n",
            "conda==4.8.2=py37_0 -> python[version='>=3.7,<3.8.0a0']\n",
            "mkl-service -> python[version='>=3.7,<3.8.0a0']\n",
            "pillow -> python[version='>=3.7,<3.8.0a0']\n",
            "mkl_fft -> python[version='>=3.7,<3.8.0a0']\n",
            "wheel==0.34.2=py37_0 -> python[version='>=3.7,<3.8.0a0']\n",
            "chardet==3.0.4=py37_1003 -> python[version='>=3.7,<3.8.0a0']\n",
            "pycparser==2.19=py37_0 -> python[version='>=3.7,<3.8.0a0']\n",
            "python-dateutil -> python\n",
            "conda-package-handling==1.6.0=py37h7b6447c_0 -> tqdm -> python\n",
            "pysocks==1.7.1=py37_0 -> python[version='>=3.7,<3.8.0a0']\n",
            "rdkit -> python[version='>=3.7,<3.8.0a0']\n",
            "pyopenssl==19.1.0=py37_0 -> python[version='>=3.7,<3.8.0a0']\n",
            "conda-package-handling==1.6.0=py37h7b6447c_0 -> python[version='>=3.7,<3.8.0a0']\n",
            "pip==20.0.2=py37_1 -> python[version='>=3.7,<3.8.0a0']\n",
            "cffi==1.14.0=py37h2e261b9_0 -> python[version='>=3.7,<3.8.0a0']\n",
            "certifi==2019.11.28=py37_0 -> python[version='>=3.7,<3.8.0a0']\n",
            "asn1crypto==1.3.0=py37_0 -> python[version='>=3.7,<3.8.0a0']\n",
            "numpy-base -> python[version='>=3.7,<3.8.0a0']\n",
            "ruamel_yaml==0.15.87=py37h7b6447c_0 -> python[version='>=3.7,<3.8.0a0']\n",
            "python==3.7.6=h0371630_2\n",
            "pytz -> python\n",
            "numpy -> python[version='>=3.7,<3.8.0a0']\n",
            "python-dateutil -> six[version='>=1.5'] -> python[version='>=3.7,<3.8.0a0']\n",
            "idna==2.8=py37_0 -> python[version='>=3.7,<3.8.0a0']\n",
            "tqdm==4.42.1=py_0 -> python\n",
            "\n",
            "Package openssl conflicts for:\n",
            "pytz -> python -> openssl[version='>=1.1.1d,<1.1.2a']\n",
            "mkl-service -> python[version='>=3.7,<3.8.0a0'] -> openssl[version='>=1.1.1d,<1.1.2a']\n",
            "python-dateutil -> python -> openssl[version='>=1.1.1d,<1.1.2a']\n",
            "mkl_random -> python[version='>=3.7,<3.8.0a0'] -> openssl[version='>=1.1.1d,<1.1.2a']\n",
            "pysocks==1.7.1=py37_0 -> python[version='>=3.7,<3.8.0a0'] -> openssl[version='>=1.1.1d,<1.1.2a']\n",
            "pycosat==0.6.3=py37h7b6447c_0 -> python[version='>=3.7,<3.8.0a0'] -> openssl[version='>=1.1.1d,<1.1.2a']\n",
            "olefile -> python[version='>=3.7,<3.8.0a0'] -> openssl[version='>=1.1.1d,<1.1.2a']\n",
            "pycparser==2.19=py37_0 -> python[version='>=3.7,<3.8.0a0'] -> openssl[version='>=1.1.1d,<1.1.2a']\n",
            "urllib3==1.25.8=py37_0 -> cryptography[version='>=1.3.4'] -> openssl[version='>=1.1.1d,<1.1.2a']\n",
            "setuptools==45.2.0=py37_0 -> python[version='>=3.7,<3.8.0a0'] -> openssl[version='>=1.1.1d,<1.1.2a']\n",
            "pandas -> python[version='>=3.7,<3.8.0a0'] -> openssl[version='>=1.1.1d,<1.1.2a']\n",
            "tqdm==4.42.1=py_0 -> python -> openssl[version='>=1.1.1d,<1.1.2a']\n",
            "python==3.7.6=h0371630_2 -> openssl[version='>=1.1.1d,<1.1.2a']\n",
            "wheel==0.34.2=py37_0 -> python[version='>=3.7,<3.8.0a0'] -> openssl[version='>=1.1.1d,<1.1.2a']\n",
            "ruamel_yaml==0.15.87=py37h7b6447c_0 -> python[version='>=3.7,<3.8.0a0'] -> openssl[version='>=1.1.1d,<1.1.2a']\n",
            "pyopenssl==19.1.0=py37_0 -> cryptography[version='>=2.8'] -> openssl[version='>=1.1.1d,<1.1.2a']\n",
            "conda==4.8.2=py37_0 -> python[version='>=3.7,<3.8.0a0'] -> openssl[version='>=1.1.1d,<1.1.2a']\n",
            "numpy -> python[version='>=3.7,<3.8.0a0'] -> openssl[version='>=1.1.1d,<1.1.2a']\n",
            "openssl==1.1.1d=h7b6447c_4\n",
            "idna==2.8=py37_0 -> python[version='>=3.7,<3.8.0a0'] -> openssl[version='>=1.1.1d,<1.1.2a']\n",
            "cryptography==2.8=py37h1ba5d50_0 -> openssl[version='>=1.1.1d,<1.1.2a']\n",
            "py-boost -> python[version='>=3.7,<3.8.0a0'] -> openssl[version='>=1.1.1d,<1.1.2a']\n",
            "conda-package-handling==1.6.0=py37h7b6447c_0 -> python[version='>=3.7,<3.8.0a0'] -> openssl[version='>=1.1.1d,<1.1.2a']\n",
            "pip==20.0.2=py37_1 -> python[version='>=3.7,<3.8.0a0'] -> openssl[version='>=1.1.1d,<1.1.2a']\n",
            "cffi==1.14.0=py37h2e261b9_0 -> python[version='>=3.7,<3.8.0a0'] -> openssl[version='>=1.1.1d,<1.1.2a']\n",
            "pillow -> python[version='>=3.7,<3.8.0a0'] -> openssl[version='>=1.1.1d,<1.1.2a']\n",
            "rdkit -> python[version='>=3.7,<3.8.0a0'] -> openssl[version='>=1.1.1d,<1.1.2a']\n",
            "asn1crypto==1.3.0=py37_0 -> python[version='>=3.7,<3.8.0a0'] -> openssl[version='>=1.1.1d,<1.1.2a']\n",
            "certifi==2019.11.28=py37_0 -> python[version='>=3.7,<3.8.0a0'] -> openssl[version='>=1.1.1d,<1.1.2a']\n",
            "requests==2.22.0=py37_1 -> python[version='>=3.7,<3.8.0a0'] -> openssl[version='>=1.1.1d,<1.1.2a']\n",
            "mkl_fft -> python[version='>=3.7,<3.8.0a0'] -> openssl[version='>=1.1.1d,<1.1.2a']\n",
            "six==1.14.0=py37_0 -> python[version='>=3.7,<3.8.0a0'] -> openssl[version='>=1.1.1d,<1.1.2a']\n",
            "numpy-base -> python[version='>=3.7,<3.8.0a0'] -> openssl[version='>=1.1.1d,<1.1.2a']\n",
            "chardet==3.0.4=py37_1003 -> python[version='>=3.7,<3.8.0a0'] -> openssl[version='>=1.1.1d,<1.1.2a']\n",
            "\n",
            "Package pillow conflicts for:\n",
            "pillow\n",
            "rdkit -> pillow\n",
            "\n",
            "Package libwebp-base conflicts for:\n",
            "lcms2 -> libtiff[version='>=4.1.0,<5.0a0'] -> libwebp-base\n",
            "libtiff -> libwebp-base\n",
            "libwebp-base\n",
            "pillow -> libtiff[version='>=4.1.0,<5.0a0'] -> libwebp-base\n",
            "\n",
            "Package xz conflicts for:\n",
            "xz==5.2.4=h14c3975_4\n",
            "ruamel_yaml==0.15.87=py37h7b6447c_0 -> python[version='>=3.7,<3.8.0a0'] -> xz[version='>=5.2.4,<6.0a0']\n",
            "olefile -> python[version='>=3.7,<3.8.0a0'] -> xz[version='>=5.2.4,<6.0a0']\n",
            "pillow -> libtiff[version='>=4.1.0,<5.0a0'] -> xz[version='>=5.2.4,<6.0a0|>=5.2.5,<6.0a0']\n",
            "fontconfig -> libxml2[version='>=2.9.10,<2.10.0a0'] -> xz[version='>=5.2.5,<6.0a0']\n",
            "python-dateutil -> python -> xz[version='>=5.2.4,<6.0a0']\n",
            "pyopenssl==19.1.0=py37_0 -> python[version='>=3.7,<3.8.0a0'] -> xz[version='>=5.2.4,<6.0a0']\n",
            "setuptools==45.2.0=py37_0 -> python[version='>=3.7,<3.8.0a0'] -> xz[version='>=5.2.4,<6.0a0']\n",
            "six==1.14.0=py37_0 -> python[version='>=3.7,<3.8.0a0'] -> xz[version='>=5.2.4,<6.0a0']\n",
            "pip==20.0.2=py37_1 -> python[version='>=3.7,<3.8.0a0'] -> xz[version='>=5.2.4,<6.0a0']\n",
            "wheel==0.34.2=py37_0 -> python[version='>=3.7,<3.8.0a0'] -> xz[version='>=5.2.4,<6.0a0']\n",
            "conda==4.8.2=py37_0 -> python[version='>=3.7,<3.8.0a0'] -> xz[version='>=5.2.4,<6.0a0']\n",
            "mkl-service -> python[version='>=3.7,<3.8.0a0'] -> xz[version='>=5.2.4,<6.0a0']\n",
            "pytz -> python -> xz[version='>=5.2.4,<6.0a0']\n",
            "asn1crypto==1.3.0=py37_0 -> python[version='>=3.7,<3.8.0a0'] -> xz[version='>=5.2.4,<6.0a0']\n",
            "pycparser==2.19=py37_0 -> python[version='>=3.7,<3.8.0a0'] -> xz[version='>=5.2.4,<6.0a0']\n",
            "zstd -> xz[version='>=5.2.5,<6.0a0']\n",
            "certifi==2019.11.28=py37_0 -> python[version='>=3.7,<3.8.0a0'] -> xz[version='>=5.2.4,<6.0a0']\n",
            "py-boost -> libboost[version='>=1.73.0,<1.73.1.0a0',build=h3ff78a5_11] -> xz[version='>=5.2.4,<6.0a0|>=5.2.5,<6.0a0']\n",
            "urllib3==1.25.8=py37_0 -> python[version='>=3.7,<3.8.0a0'] -> xz[version='>=5.2.4,<6.0a0']\n",
            "chardet==3.0.4=py37_1003 -> python[version='>=3.7,<3.8.0a0'] -> xz[version='>=5.2.4,<6.0a0']\n",
            "numpy -> python[version='>=3.7,<3.8.0a0'] -> xz[version='>=5.2.4,<6.0a0']\n",
            "python==3.7.6=h0371630_2 -> xz[version='>=5.2.4,<6.0a0']\n",
            "mkl_fft -> python[version='>=3.7,<3.8.0a0'] -> xz[version='>=5.2.4,<6.0a0']\n",
            "libxml2 -> xz[version='>=5.2.5,<6.0a0']\n",
            "lcms2 -> libtiff[version='>=4.1.0,<5.0a0'] -> xz[version='>=5.2.5,<6.0a0']\n",
            "conda-package-handling==1.6.0=py37h7b6447c_0 -> python[version='>=3.7,<3.8.0a0'] -> xz[version='>=5.2.4,<6.0a0']\n",
            "pysocks==1.7.1=py37_0 -> python[version='>=3.7,<3.8.0a0'] -> xz[version='>=5.2.4,<6.0a0']\n",
            "rdkit -> libboost[version='>=1.73.0,<1.74.0a0'] -> xz[version='>=5.2.4,<6.0a0|>=5.2.5,<6.0a0']\n",
            "idna==2.8=py37_0 -> python[version='>=3.7,<3.8.0a0'] -> xz[version='>=5.2.4,<6.0a0']\n",
            "tqdm==4.42.1=py_0 -> python -> xz[version='>=5.2.4,<6.0a0']\n",
            "libtiff -> xz[version='>=5.2.5,<6.0a0']\n",
            "cffi==1.14.0=py37h2e261b9_0 -> python[version='>=3.7,<3.8.0a0'] -> xz[version='>=5.2.4,<6.0a0']\n",
            "libboost -> xz[version='>=5.2.5,<6.0a0']\n",
            "mkl_random -> python[version='>=3.7,<3.8.0a0'] -> xz[version='>=5.2.4,<6.0a0']\n",
            "pycosat==0.6.3=py37h7b6447c_0 -> python[version='>=3.7,<3.8.0a0'] -> xz[version='>=5.2.4,<6.0a0']\n",
            "pandas -> python[version='>=3.7,<3.8.0a0'] -> xz[version='>=5.2.4,<6.0a0']\n",
            "requests==2.22.0=py37_1 -> python[version='>=3.7,<3.8.0a0'] -> xz[version='>=5.2.4,<6.0a0']\n",
            "cryptography==2.8=py37h1ba5d50_0 -> python[version='>=3.7,<3.8.0a0'] -> xz[version='>=5.2.4,<6.0a0']\n",
            "numpy-base -> python[version='>=3.7,<3.8.0a0'] -> xz[version='>=5.2.4,<6.0a0']\n",
            "\n",
            "Package sqlite conflicts for:\n",
            "mkl_fft -> python[version='>=3.7,<3.8.0a0'] -> sqlite[version='>=3.30.1,<4.0a0']\n",
            "chardet==3.0.4=py37_1003 -> python[version='>=3.7,<3.8.0a0'] -> sqlite[version='>=3.30.1,<4.0a0']\n",
            "cffi==1.14.0=py37h2e261b9_0 -> python[version='>=3.7,<3.8.0a0'] -> sqlite[version='>=3.30.1,<4.0a0']\n",
            "requests==2.22.0=py37_1 -> python[version='>=3.7,<3.8.0a0'] -> sqlite[version='>=3.30.1,<4.0a0']\n",
            "six==1.14.0=py37_0 -> python[version='>=3.7,<3.8.0a0'] -> sqlite[version='>=3.30.1,<4.0a0']\n",
            "numpy -> python[version='>=3.7,<3.8.0a0'] -> sqlite[version='>=3.30.1,<4.0a0']\n",
            "conda==4.8.2=py37_0 -> python[version='>=3.7,<3.8.0a0'] -> sqlite[version='>=3.30.1,<4.0a0']\n",
            "pycparser==2.19=py37_0 -> python[version='>=3.7,<3.8.0a0'] -> sqlite[version='>=3.30.1,<4.0a0']\n",
            "mkl_random -> python[version='>=3.7,<3.8.0a0'] -> sqlite[version='>=3.30.1,<4.0a0']\n",
            "python-dateutil -> python -> sqlite[version='>=3.30.1,<4.0a0']\n",
            "mkl-service -> python[version='>=3.7,<3.8.0a0'] -> sqlite[version='>=3.30.1,<4.0a0']\n",
            "asn1crypto==1.3.0=py37_0 -> python[version='>=3.7,<3.8.0a0'] -> sqlite[version='>=3.30.1,<4.0a0']\n",
            "pandas -> python[version='>=3.7,<3.8.0a0'] -> sqlite[version='>=3.30.1,<4.0a0']\n",
            "urllib3==1.25.8=py37_0 -> python[version='>=3.7,<3.8.0a0'] -> sqlite[version='>=3.30.1,<4.0a0']\n",
            "setuptools==45.2.0=py37_0 -> python[version='>=3.7,<3.8.0a0'] -> sqlite[version='>=3.30.1,<4.0a0']\n",
            "pysocks==1.7.1=py37_0 -> python[version='>=3.7,<3.8.0a0'] -> sqlite[version='>=3.30.1,<4.0a0']\n",
            "certifi==2019.11.28=py37_0 -> python[version='>=3.7,<3.8.0a0'] -> sqlite[version='>=3.30.1,<4.0a0']\n",
            "pycosat==0.6.3=py37h7b6447c_0 -> python[version='>=3.7,<3.8.0a0'] -> sqlite[version='>=3.30.1,<4.0a0']\n",
            "tqdm==4.42.1=py_0 -> python -> sqlite[version='>=3.30.1,<4.0a0']\n",
            "rdkit -> python[version='>=3.7,<3.8.0a0'] -> sqlite[version='>=3.30.1,<4.0a0']\n",
            "conda-package-handling==1.6.0=py37h7b6447c_0 -> python[version='>=3.7,<3.8.0a0'] -> sqlite[version='>=3.30.1,<4.0a0']\n",
            "sqlite==3.31.1=h7b6447c_0\n",
            "cryptography==2.8=py37h1ba5d50_0 -> python[version='>=3.7,<3.8.0a0'] -> sqlite[version='>=3.30.1,<4.0a0']\n",
            "idna==2.8=py37_0 -> python[version='>=3.7,<3.8.0a0'] -> sqlite[version='>=3.30.1,<4.0a0']\n",
            "py-boost -> python[version='>=3.7,<3.8.0a0'] -> sqlite[version='>=3.30.1,<4.0a0']\n",
            "ruamel_yaml==0.15.87=py37h7b6447c_0 -> python[version='>=3.7,<3.8.0a0'] -> sqlite[version='>=3.30.1,<4.0a0']\n",
            "pyopenssl==19.1.0=py37_0 -> python[version='>=3.7,<3.8.0a0'] -> sqlite[version='>=3.30.1,<4.0a0']\n",
            "python==3.7.6=h0371630_2 -> sqlite[version='>=3.30.1,<4.0a0']\n",
            "pillow -> python[version='>=3.7,<3.8.0a0'] -> sqlite[version='>=3.30.1,<4.0a0']\n",
            "pip==20.0.2=py37_1 -> python[version='>=3.7,<3.8.0a0'] -> sqlite[version='>=3.30.1,<4.0a0']\n",
            "pytz -> python -> sqlite[version='>=3.30.1,<4.0a0']\n",
            "wheel==0.34.2=py37_0 -> python[version='>=3.7,<3.8.0a0'] -> sqlite[version='>=3.30.1,<4.0a0']\n",
            "numpy-base -> python[version='>=3.7,<3.8.0a0'] -> sqlite[version='>=3.30.1,<4.0a0']\n",
            "olefile -> python[version='>=3.7,<3.8.0a0'] -> sqlite[version='>=3.30.1,<4.0a0']\n",
            "\n",
            "Package wheel conflicts for:\n",
            "wheel==0.34.2=py37_0\n",
            "pip==20.0.2=py37_1 -> wheel\n",
            "\n",
            "Package cryptography conflicts for:\n",
            "conda==4.8.2=py37_0 -> pyopenssl[version='>=16.2.0'] -> cryptography[version='>=2.8']\n",
            "requests==2.22.0=py37_1 -> urllib3[version='>=1.21.1,<1.26,!=1.25.0,!=1.25.1'] -> cryptography[version='>=1.3.4']\n",
            "cryptography==2.8=py37h1ba5d50_0\n",
            "pyopenssl==19.1.0=py37_0 -> cryptography[version='>=2.8']\n",
            "urllib3==1.25.8=py37_0 -> pyopenssl[version='>=0.14'] -> cryptography[version='>=2.8']\n",
            "urllib3==1.25.8=py37_0 -> cryptography[version='>=1.3.4']\n",
            "\n",
            "Package libffi conflicts for:\n",
            "python==3.7.6=h0371630_2 -> libffi[version='>=3.2.1,<4.0a0']\n",
            "cairo -> glib[version='>=2.67.4,<3.0a0'] -> libffi[version='>=3.3,<3.4.0a0']\n",
            "cffi==1.14.0=py37h2e261b9_0 -> libffi[version='>=3.2.1,<4.0a0']\n",
            "conda-package-handling==1.6.0=py37h7b6447c_0 -> python[version='>=3.7,<3.8.0a0'] -> libffi[version='>=3.2.1,<4.0a0']\n",
            "pysocks==1.7.1=py37_0 -> python[version='>=3.7,<3.8.0a0'] -> libffi[version='>=3.2.1,<4.0a0']\n",
            "pip==20.0.2=py37_1 -> python[version='>=3.7,<3.8.0a0'] -> libffi[version='>=3.2.1,<4.0a0']\n",
            "cryptography==2.8=py37h1ba5d50_0 -> cffi[version='>=1.8'] -> libffi[version='>=3.2.1,<4.0a0']\n",
            "libffi==3.2.1=hd88cf55_4\n",
            "olefile -> python[version='>=3.7,<3.8.0a0'] -> libffi[version='>=3.2.1,<4.0a0']\n",
            "pyopenssl==19.1.0=py37_0 -> python[version='>=3.7,<3.8.0a0'] -> libffi[version='>=3.2.1,<4.0a0']\n",
            "glib -> libffi[version='>=3.3,<3.4.0a0']\n",
            "mkl_fft -> python[version='>=3.7,<3.8.0a0'] -> libffi[version='>=3.2.1,<4.0a0']\n",
            "mkl-service -> python[version='>=3.7,<3.8.0a0'] -> libffi[version='>=3.2.1,<4.0a0']\n",
            "pillow -> python[version='>=3.7,<3.8.0a0'] -> libffi[version='>=3.2.1,<4.0a0']\n",
            "tqdm==4.42.1=py_0 -> python -> libffi[version='>=3.2.1,<4.0a0']\n",
            "python-dateutil -> python -> libffi[version='>=3.2.1,<4.0a0']\n",
            "pycparser==2.19=py37_0 -> python[version='>=3.7,<3.8.0a0'] -> libffi[version='>=3.2.1,<4.0a0']\n",
            "numpy -> python[version='>=3.7,<3.8.0a0'] -> libffi[version='>=3.2.1,<4.0a0']\n",
            "ruamel_yaml==0.15.87=py37h7b6447c_0 -> python[version='>=3.7,<3.8.0a0'] -> libffi[version='>=3.2.1,<4.0a0']\n",
            "pytz -> python -> libffi[version='>=3.2.1,<4.0a0']\n",
            "asn1crypto==1.3.0=py37_0 -> python[version='>=3.7,<3.8.0a0'] -> libffi[version='>=3.2.1,<4.0a0']\n",
            "certifi==2019.11.28=py37_0 -> python[version='>=3.7,<3.8.0a0'] -> libffi[version='>=3.2.1,<4.0a0']\n",
            "pycosat==0.6.3=py37h7b6447c_0 -> python[version='>=3.7,<3.8.0a0'] -> libffi[version='>=3.2.1,<4.0a0']\n",
            "chardet==3.0.4=py37_1003 -> python[version='>=3.7,<3.8.0a0'] -> libffi[version='>=3.2.1,<4.0a0']\n",
            "mkl_random -> python[version='>=3.7,<3.8.0a0'] -> libffi[version='>=3.2.1,<4.0a0']\n",
            "six==1.14.0=py37_0 -> python[version='>=3.7,<3.8.0a0'] -> libffi[version='>=3.2.1,<4.0a0']\n",
            "setuptools==45.2.0=py37_0 -> python[version='>=3.7,<3.8.0a0'] -> libffi[version='>=3.2.1,<4.0a0']\n",
            "wheel==0.34.2=py37_0 -> python[version='>=3.7,<3.8.0a0'] -> libffi[version='>=3.2.1,<4.0a0']\n",
            "conda==4.8.2=py37_0 -> python[version='>=3.7,<3.8.0a0'] -> libffi[version='>=3.2.1,<4.0a0']\n",
            "numpy-base -> python[version='>=3.7,<3.8.0a0'] -> libffi[version='>=3.2.1,<4.0a0']\n",
            "idna==2.8=py37_0 -> python[version='>=3.7,<3.8.0a0'] -> libffi[version='>=3.2.1,<4.0a0']\n",
            "urllib3==1.25.8=py37_0 -> python[version='>=3.7,<3.8.0a0'] -> libffi[version='>=3.2.1,<4.0a0']\n",
            "pandas -> python[version='>=3.7,<3.8.0a0'] -> libffi[version='>=3.2.1,<4.0a0']\n",
            "requests==2.22.0=py37_1 -> python[version='>=3.7,<3.8.0a0'] -> libffi[version='>=3.2.1,<4.0a0']\n",
            "rdkit -> python[version='>=3.7,<3.8.0a0'] -> libffi[version='>=3.2.1,<4.0a0']\n",
            "py-boost -> python[version='>=3.7,<3.8.0a0'] -> libffi[version='>=3.2.1,<4.0a0']\n",
            "\n",
            "Package idna conflicts for:\n",
            "urllib3==1.25.8=py37_0 -> cryptography[version='>=1.3.4'] -> idna[version='>=2.1']\n",
            "requests==2.22.0=py37_1 -> urllib3[version='>=1.21.1,<1.26,!=1.25.0,!=1.25.1'] -> idna[version='>=2.0.0']\n",
            "cryptography==2.8=py37h1ba5d50_0 -> idna[version='>=2.1']\n",
            "pyopenssl==19.1.0=py37_0 -> cryptography[version='>=2.8'] -> idna[version='>=2.1']\n",
            "conda==4.8.2=py37_0 -> requests[version='>=2.18.4,<3'] -> idna[version='>=2.5,<2.9']\n",
            "urllib3==1.25.8=py37_0 -> idna[version='>=2.0.0']\n",
            "idna==2.8=py37_0\n",
            "requests==2.22.0=py37_1 -> idna[version='>=2.5,<2.9']\n",
            "\n",
            "Package cairo conflicts for:\n",
            "cairo\n",
            "rdkit -> cairo[version='>=1.14.12,<2.0a0']\n",
            "\n",
            "Package pcre conflicts for:\n",
            "cairo -> glib[version='>=2.67.4,<3.0a0'] -> pcre[version='>=8.44,<9.0a0']\n",
            "glib -> pcre[version='>=8.44,<9.0a0']\n",
            "pcre\n",
            "\n",
            "Package mkl-service conflicts for:\n",
            "pandas -> numpy[version='>=1.19.2,<2.0a0'] -> mkl-service[version='>=2.3.0,<3.0a0']\n",
            "numpy-base -> mkl-service[version='>=2.3.0,<3.0a0']\n",
            "mkl-service\n",
            "mkl_fft -> mkl-service[version='>=2.3.0,<3.0a0']\n",
            "rdkit -> numpy[version='>=1.12'] -> mkl-service[version='>=2.3.0,<3.0a0']\n",
            "numpy -> mkl-service[version='>=2.3.0,<3.0a0']\n",
            "mkl_random -> mkl-service[version='>=2.3.0,<3.0a0']\n",
            "\n",
            "Package pixman conflicts for:\n",
            "rdkit -> cairo[version='>=1.14.12,<2.0a0'] -> pixman[version='>=0.40.0,<1.0a0']\n",
            "cairo -> pixman[version='>=0.40.0,<1.0a0']\n",
            "pixman\n",
            "\n",
            "Package libxcb conflicts for:\n",
            "rdkit -> cairo[version='>=1.14.12,<2.0a0'] -> libxcb[version='>=1.14,<2.0a0']\n",
            "libxcb\n",
            "cairo -> libxcb[version='>=1.14,<2.0a0']\n",
            "\n",
            "Package fontconfig conflicts for:\n",
            "fontconfig\n",
            "rdkit -> cairo[version='>=1.14.12,<2.0a0'] -> fontconfig[version='>=2.13.1,<3.0a0']\n",
            "cairo -> fontconfig[version='>=2.13.1,<3.0a0']\n",
            "\n",
            "Package pycosat conflicts for:\n",
            "conda==4.8.2=py37_0 -> pycosat[version='>=0.6.3']\n",
            "pycosat==0.6.3=py37h7b6447c_0\n",
            "\n",
            "Package ca-certificates conflicts for:\n",
            "ca-certificates==2020.1.1=0\n",
            "cryptography==2.8=py37h1ba5d50_0 -> openssl[version='>=1.1.1d,<1.1.2a'] -> ca-certificates\n",
            "openssl==1.1.1d=h7b6447c_4 -> ca-certificates\n",
            "python==3.7.6=h0371630_2 -> openssl[version='>=1.1.1d,<1.1.2a'] -> ca-certificates\n",
            "\n",
            "Package mkl conflicts for:\n",
            "mkl\n",
            "rdkit -> numpy[version='>=1.12'] -> mkl[version='>=2021.2.0,<2022.0a0']\n",
            "pandas -> numpy[version='>=1.19.2,<2.0a0'] -> mkl[version='>=2021.2.0,<2022.0a0']\n",
            "mkl_random -> mkl[version='>=2021.2.0,<2022.0a0']\n",
            "numpy -> mkl[version='>=2021.2.0,<2022.0a0']\n",
            "numpy-base -> mkl[version='>=2021.2.0,<2022.0a0']\n",
            "mkl-service -> mkl[version='>=2021.2.0,<2022.0a0']\n",
            "mkl_fft -> mkl[version='>=2021.2.0,<2022.0a0']\n",
            "\n",
            "Package zstd conflicts for:\n",
            "lcms2 -> libtiff[version='>=4.1.0,<5.0a0'] -> zstd[version='>=1.4.5,<1.5.0a0']\n",
            "libtiff -> zstd[version='>=1.4.5,<1.5.0a0']\n",
            "rdkit -> libboost[version='>=1.73.0,<1.74.0a0'] -> zstd[version='>=1.4.5,<1.5.0a0']\n",
            "pillow -> libtiff[version='>=4.1.0,<5.0a0'] -> zstd[version='>=1.4.5,<1.5.0a0']\n",
            "py-boost -> libboost[version='>=1.73.0,<1.73.1.0a0',build=h3ff78a5_11] -> zstd[version='>=1.4.5,<1.5.0a0']\n",
            "libboost -> zstd[version='>=1.4.5,<1.5.0a0']\n",
            "zstd\n",
            "\n",
            "Package libtiff conflicts for:\n",
            "lcms2 -> libtiff[version='>=4.1.0,<5.0a0']\n",
            "rdkit -> pillow -> libtiff[version='>=4.1.0,<5.0a0']\n",
            "libtiff\n",
            "pillow -> libtiff[version='>=4.1.0,<5.0a0']\n",
            "\n",
            "Package icu conflicts for:\n",
            "icu\n",
            "rdkit -> libboost[version='>=1.73.0,<1.74.0a0'] -> icu[version='>=58.2,<59.0a0']\n",
            "libboost -> icu[version='>=58.2,<59.0a0']\n",
            "py-boost -> libboost[version='>=1.73.0,<1.73.1.0a0',build=h3ff78a5_11] -> icu[version='>=58.2,<59.0a0']\n",
            "libxml2 -> icu[version='>=58.2,<59.0a0']\n",
            "fontconfig -> libxml2[version='>=2.9.10,<2.10.0a0'] -> icu[version='>=58.2,<59.0a0']\n",
            "\n",
            "Package olefile conflicts for:\n",
            "rdkit -> pillow -> olefile\n",
            "pillow -> olefile\n",
            "olefile\n",
            "\n",
            "Package tqdm conflicts for:\n",
            "conda==4.8.2=py37_0 -> conda-package-handling[version='>=1.3.0'] -> tqdm\n",
            "conda-package-handling==1.6.0=py37h7b6447c_0 -> tqdm\n",
            "tqdm==4.42.1=py_0\n",
            "\n",
            "Package conda-package-handling conflicts for:\n",
            "conda-package-handling==1.6.0=py37h7b6447c_0\n",
            "conda==4.8.2=py37_0 -> conda-package-handling[version='>=1.3.0']\n",
            "\n",
            "Package lz4-c conflicts for:\n",
            "zstd -> lz4-c[version='>=1.9.3,<1.10.0a0']\n",
            "libboost -> zstd[version='>=1.4.5,<1.5.0a0'] -> lz4-c[version='>=1.9.3,<1.10.0a0']\n",
            "lz4-c\n",
            "libtiff -> zstd[version='>=1.4.5,<1.5.0a0'] -> lz4-c[version='>=1.9.3,<1.10.0a0']\n",
            "\n",
            "Package pysocks conflicts for:\n",
            "requests==2.22.0=py37_1 -> urllib3[version='>=1.21.1,<1.26,!=1.25.0,!=1.25.1'] -> pysocks[version='>=1.5.6,<2.0,!=1.5.7']\n",
            "urllib3==1.25.8=py37_0 -> pysocks[version='>=1.5.6,<2.0,!=1.5.7']\n",
            "pysocks==1.7.1=py37_0\n",
            "\n",
            "Package pyopenssl conflicts for:\n",
            "pyopenssl==19.1.0=py37_0\n",
            "requests==2.22.0=py37_1 -> urllib3[version='>=1.21.1,<1.26,!=1.25.0,!=1.25.1'] -> pyopenssl[version='>=0.14']\n",
            "conda==4.8.2=py37_0 -> pyopenssl[version='>=16.2.0']\n",
            "urllib3==1.25.8=py37_0 -> pyopenssl[version='>=0.14']\n",
            "\n",
            "Package numpy-base conflicts for:\n",
            "numpy-base\n",
            "numpy -> numpy-base==1.20.2=py37hfae3a4d_0\n",
            "mkl_random -> numpy[version='>=1.16,<2.0a0'] -> numpy-base==1.20.2=py37hfae3a4d_0\n",
            "mkl_fft -> numpy[version='>=1.16,<2.0a0'] -> numpy-base==1.20.2=py37hfae3a4d_0\n",
            "pandas -> numpy[version='>=1.19.2,<2.0a0'] -> numpy-base==1.20.2=py37hfae3a4d_0\n",
            "rdkit -> numpy[version='>=1.12'] -> numpy-base==1.20.2=py37hfae3a4d_0\n",
            "\n",
            "Package python-dateutil conflicts for:\n",
            "rdkit -> pandas -> python-dateutil[version='>=2.7.3']\n",
            "pandas -> python-dateutil[version='>=2.7.3']\n",
            "python-dateutil\n",
            "\n",
            "Package numpy conflicts for:\n",
            "rdkit -> pandas -> numpy[version='>=1.19.2,<2.0a0']\n",
            "mkl_fft -> numpy[version='>=1.16,<2.0a0']\n",
            "pandas -> numpy[version='>=1.19.2,<2.0a0']\n",
            "numpy\n",
            "mkl_random -> numpy[version='>=1.16,<2.0a0']\n",
            "rdkit -> numpy[version='>=1.12']\n",
            "\n",
            "Package lcms2 conflicts for:\n",
            "pillow -> lcms2[version='>=2.11,<3.0a0']\n",
            "lcms2\n",
            "rdkit -> pillow -> lcms2[version='>=2.11,<3.0a0']\n",
            "\n",
            "Package urllib3 conflicts for:\n",
            "conda==4.8.2=py37_0 -> requests[version='>=2.18.4,<3'] -> urllib3[version='>=1.21.1,<1.26,!=1.25.0,!=1.25.1']\n",
            "requests==2.22.0=py37_1 -> urllib3[version='>=1.21.1,<1.26,!=1.25.0,!=1.25.1']\n",
            "urllib3==1.25.8=py37_0\n",
            "\n",
            "Package libuuid conflicts for:\n",
            "fontconfig -> libuuid[version='>=1.0.3,<2.0a0']\n",
            "cairo -> fontconfig[version='>=2.13.1,<3.0a0'] -> libuuid[version='>=1.0.3,<2.0a0']\n",
            "libuuid\n",
            "\n",
            "Package freetype conflicts for:\n",
            "rdkit -> cairo[version='>=1.14.12,<2.0a0'] -> freetype[version='>=2.10.4,<3.0a0']\n",
            "fontconfig -> freetype[version='>=2.10.4,<3.0a0']\n",
            "pillow -> freetype[version='>=2.10.4,<3.0a0']\n",
            "rdkit -> freetype[version='>=2.10.3,<3.0a0']\n",
            "freetype\n",
            "cairo -> freetype[version='>=2.10.4,<3.0a0']\n",
            "\n",
            "Package bzip2 conflicts for:\n",
            "rdkit -> libboost[version='>=1.73.0,<1.74.0a0'] -> bzip2[version='>=1.0.8,<2.0a0']\n",
            "bzip2\n",
            "libboost -> bzip2[version='>=1.0.8,<2.0a0']\n",
            "py-boost -> libboost[version='>=1.73.0,<1.73.1.0a0',build=h3ff78a5_11] -> bzip2[version='>=1.0.8,<2.0a0']\n",
            "\n",
            "Package libpng conflicts for:\n",
            "rdkit -> cairo[version='>=1.14.12,<2.0a0'] -> libpng[version='>=1.6.37,<1.7.0a0']\n",
            "libpng\n",
            "freetype -> libpng[version='>=1.6.37,<1.7.0a0']\n",
            "cairo -> libpng[version='>=1.6.37,<1.7.0a0']\n",
            "pillow -> freetype[version='>=2.10.4,<3.0a0'] -> libpng[version='>=1.6.37,<1.7.0a0']\n",
            "fontconfig -> freetype[version='>=2.10.4,<3.0a0'] -> libpng[version='>=1.6.37,<1.7.0a0']\n",
            "\n",
            "Package asn1crypto conflicts for:\n",
            "cryptography==2.8=py37h1ba5d50_0 -> asn1crypto[version='>=0.21.0']\n",
            "asn1crypto==1.3.0=py37_0\n",
            "urllib3==1.25.8=py37_0 -> cryptography[version='>=1.3.4'] -> asn1crypto[version='>=0.21.0']\n",
            "pyopenssl==19.1.0=py37_0 -> cryptography[version='>=2.8'] -> asn1crypto[version='>=0.21.0']\n",
            "\n",
            "Package jpeg conflicts for:\n",
            "rdkit -> pillow -> jpeg\n",
            "lcms2 -> jpeg[version='>=9b,<10a']\n",
            "jpeg\n",
            "pillow -> lcms2[version='>=2.11,<3.0a0'] -> jpeg[version='>=9b,<10a']\n",
            "libtiff -> jpeg[version='>=9b,<10a']\n",
            "pillow -> jpeg\n",
            "\n",
            "Package pytz conflicts for:\n",
            "pytz\n",
            "pandas -> pytz[version='>=2017.3']\n",
            "rdkit -> pandas -> pytz[version='>=2017.3']\n",
            "\n",
            "Package pycparser conflicts for:\n",
            "pycparser==2.19=py37_0\n",
            "cryptography==2.8=py37h1ba5d50_0 -> cffi[version='>=1.8'] -> pycparser\n",
            "cffi==1.14.0=py37h2e261b9_0 -> pycparser\n",
            "\n",
            "Package cffi conflicts for:\n",
            "cryptography==2.8=py37h1ba5d50_0 -> cffi[version='>=1.8']\n",
            "cffi==1.14.0=py37h2e261b9_0\n",
            "pyopenssl==19.1.0=py37_0 -> cryptography[version='>=2.8'] -> cffi[version='>=1.8']\n",
            "urllib3==1.25.8=py37_0 -> cryptography[version='>=1.3.4'] -> cffi[version='>=1.8']\n",
            "\n",
            "Package chardet conflicts for:\n",
            "conda==4.8.2=py37_0 -> requests[version='>=2.18.4,<3'] -> chardet[version='>=3.0.2,<3.1.0']\n",
            "requests==2.22.0=py37_1 -> chardet[version='>=3.0.2,<3.1.0']\n",
            "chardet==3.0.4=py37_1003\n",
            "\n",
            "Package glib conflicts for:\n",
            "cairo -> glib[version='>=2.67.4,<3.0a0']\n",
            "rdkit -> cairo[version='>=1.14.12,<2.0a0'] -> glib[version='>=2.67.4,<3.0a0']\n",
            "glib\n",
            "\n",
            "Package libxml2 conflicts for:\n",
            "libxml2\n",
            "cairo -> fontconfig[version='>=2.13.1,<3.0a0'] -> libxml2[version='>=2.9.10,<2.10.0a0']\n",
            "fontconfig -> libxml2[version='>=2.9.10,<2.10.0a0']\n",
            "\n",
            "Package ruamel_yaml conflicts for:\n",
            "conda==4.8.2=py37_0 -> ruamel_yaml[version='>=0.11.14,<0.16']\n",
            "ruamel_yaml==0.15.87=py37h7b6447c_0\n",
            "\n",
            "Package pandas conflicts for:\n",
            "rdkit -> pandas\n",
            "pandas\n",
            "\n",
            "Package py-boost conflicts for:\n",
            "rdkit -> py-boost\n",
            "py-boost\n",
            "\n",
            "Package requests conflicts for:\n",
            "requests==2.22.0=py37_1\n",
            "conda==4.8.2=py37_0 -> requests[version='>=2.18.4,<3']\n",
            "\n",
            "Package setuptools conflicts for:\n",
            "setuptools==45.2.0=py37_0\n",
            "conda==4.8.2=py37_0 -> setuptools[version='>=31.0.1']\n",
            "wheel==0.34.2=py37_0 -> setuptools\n",
            "pip==20.0.2=py37_1 -> setuptools\n",
            "\n",
            "Collecting package metadata (current_repodata.json): - \b\b\\ \b\b| \b\b/ \b\b- \b\b\\ \b\b| \b\b/ \b\b- \b\b\\ \b\bdone\n",
            "Solving environment: / \b\b- \b\b\\ \b\b| \b\b/ \b\b- \b\b\\ \b\b| \b\b/ \b\b- \b\b\\ \b\bdone\n",
            "\n",
            "# All requested packages already installed.\n",
            "\n"
          ],
          "name": "stdout"
        }
      ]
    },
    {
      "cell_type": "markdown",
      "metadata": {
        "id": "QmxXXFa4wTNG"
      },
      "source": [
        "## **Load bioactivity data**"
      ]
    },
    {
      "cell_type": "code",
      "metadata": {
        "id": "Fpu5C7HlwV9s"
      },
      "source": [
        "import pandas as pd"
      ],
      "execution_count": null,
      "outputs": []
    },
    {
      "cell_type": "code",
      "metadata": {
        "id": "GCcE8J5XwjtB",
        "colab": {
          "base_uri": "https://localhost:8080/",
          "height": 419
        },
        "outputId": "b31e6025-80e9-4583-9338-a9b0d4258914"
      },
      "source": [
        "df = pd.read_csv('BACE1_03_bioactivity_data_curated.csv')\n",
        "df"
      ],
      "execution_count": null,
      "outputs": [
        {
          "output_type": "execute_result",
          "data": {
            "text/html": [
              "<div>\n",
              "<style scoped>\n",
              "    .dataframe tbody tr th:only-of-type {\n",
              "        vertical-align: middle;\n",
              "    }\n",
              "\n",
              "    .dataframe tbody tr th {\n",
              "        vertical-align: top;\n",
              "    }\n",
              "\n",
              "    .dataframe thead th {\n",
              "        text-align: right;\n",
              "    }\n",
              "</style>\n",
              "<table border=\"1\" class=\"dataframe\">\n",
              "  <thead>\n",
              "    <tr style=\"text-align: right;\">\n",
              "      <th></th>\n",
              "      <th>molecule_chembl_id</th>\n",
              "      <th>canonical_smiles</th>\n",
              "      <th>standard_value</th>\n",
              "      <th>class</th>\n",
              "    </tr>\n",
              "  </thead>\n",
              "  <tbody>\n",
              "    <tr>\n",
              "      <th>0</th>\n",
              "      <td>CHEMBL406146</td>\n",
              "      <td>CC(C)C[C@H](NC(=O)[C@@H](NC(=O)[C@@H](N)CCC(=O...</td>\n",
              "      <td>413.00</td>\n",
              "      <td>active</td>\n",
              "    </tr>\n",
              "    <tr>\n",
              "      <th>1</th>\n",
              "      <td>CHEMBL78946</td>\n",
              "      <td>CC(C)C[C@H](NC(=O)[C@H](CC(N)=O)NC(=O)[C@@H](N...</td>\n",
              "      <td>2.00</td>\n",
              "      <td>active</td>\n",
              "    </tr>\n",
              "    <tr>\n",
              "      <th>2</th>\n",
              "      <td>CHEMBL324109</td>\n",
              "      <td>CCC(C)C[C@H](NC(=O)[C@H](CC(C)C)NC(C)=O)[C@@H]...</td>\n",
              "      <td>460.00</td>\n",
              "      <td>active</td>\n",
              "    </tr>\n",
              "    <tr>\n",
              "      <th>3</th>\n",
              "      <td>CHEMBL114147</td>\n",
              "      <td>CC(=O)NCC(=O)N[C@@H](Cc1ccccc1)[C@@H](O)CC(=O)...</td>\n",
              "      <td>9000.00</td>\n",
              "      <td>intermediate</td>\n",
              "    </tr>\n",
              "    <tr>\n",
              "      <th>4</th>\n",
              "      <td>CHEMBL419949</td>\n",
              "      <td>CC(=O)N[C@@H](Cc1ccccc1)C(=O)N[C@@H](Cc1ccccc1...</td>\n",
              "      <td>5600.00</td>\n",
              "      <td>intermediate</td>\n",
              "    </tr>\n",
              "    <tr>\n",
              "      <th>...</th>\n",
              "      <td>...</td>\n",
              "      <td>...</td>\n",
              "      <td>...</td>\n",
              "      <td>...</td>\n",
              "    </tr>\n",
              "    <tr>\n",
              "      <th>7057</th>\n",
              "      <td>CHEMBL4565226</td>\n",
              "      <td>CC(Cc1cc2ccccc2nc1N)C(=O)NC[C@@]12CCCO[C@@H]1C...</td>\n",
              "      <td>33113.11</td>\n",
              "      <td>inactive</td>\n",
              "    </tr>\n",
              "    <tr>\n",
              "      <th>7058</th>\n",
              "      <td>CHEMBL4520156</td>\n",
              "      <td>Nc1nc2ccccc2cc1CCC(=O)N1CC[C@H]2OCCC[C@@]2(Cc2...</td>\n",
              "      <td>85113.80</td>\n",
              "      <td>inactive</td>\n",
              "    </tr>\n",
              "    <tr>\n",
              "      <th>7059</th>\n",
              "      <td>CHEMBL4585673</td>\n",
              "      <td>Nc1nc2ccccc2cc1CCC(=O)NC[C@@]12CCCO[C@@H]1CCOC2</td>\n",
              "      <td>28840.32</td>\n",
              "      <td>inactive</td>\n",
              "    </tr>\n",
              "    <tr>\n",
              "      <th>7060</th>\n",
              "      <td>CHEMBL4546115</td>\n",
              "      <td>COc1ccc2c(c1)[C@@H](O)[C@@]1(CCN(C(=O)CCc3cc4c...</td>\n",
              "      <td>54954.09</td>\n",
              "      <td>inactive</td>\n",
              "    </tr>\n",
              "    <tr>\n",
              "      <th>7061</th>\n",
              "      <td>CHEMBL1821813</td>\n",
              "      <td>Nc1nc2ccccc2cc1CCC(=O)NCC1CCCCC1</td>\n",
              "      <td>30902.95</td>\n",
              "      <td>inactive</td>\n",
              "    </tr>\n",
              "  </tbody>\n",
              "</table>\n",
              "<p>7062 rows × 4 columns</p>\n",
              "</div>"
            ],
            "text/plain": [
              "     molecule_chembl_id  ...         class\n",
              "0          CHEMBL406146  ...        active\n",
              "1           CHEMBL78946  ...        active\n",
              "2          CHEMBL324109  ...        active\n",
              "3          CHEMBL114147  ...  intermediate\n",
              "4          CHEMBL419949  ...  intermediate\n",
              "...                 ...  ...           ...\n",
              "7057      CHEMBL4565226  ...      inactive\n",
              "7058      CHEMBL4520156  ...      inactive\n",
              "7059      CHEMBL4585673  ...      inactive\n",
              "7060      CHEMBL4546115  ...      inactive\n",
              "7061      CHEMBL1821813  ...      inactive\n",
              "\n",
              "[7062 rows x 4 columns]"
            ]
          },
          "metadata": {
            "tags": []
          },
          "execution_count": 3
        }
      ]
    },
    {
      "cell_type": "code",
      "metadata": {
        "id": "7AMm19NW0bJR"
      },
      "source": [
        "df_no_smiles = df.drop(columns='canonical_smiles')"
      ],
      "execution_count": null,
      "outputs": []
    },
    {
      "cell_type": "code",
      "metadata": {
        "id": "aymiQsfdr5sY"
      },
      "source": [
        "smiles = []\n",
        "\n",
        "for i in df.canonical_smiles.tolist():\n",
        "  cpd = str(i).split('.')\n",
        "  cpd_longest = max(cpd, key = len)\n",
        "  smiles.append(cpd_longest)\n",
        "\n",
        "smiles = pd.Series(smiles, name = 'canonical_smiles')"
      ],
      "execution_count": null,
      "outputs": []
    },
    {
      "cell_type": "code",
      "metadata": {
        "id": "l7a8qW_U85ZK",
        "colab": {
          "base_uri": "https://localhost:8080/",
          "height": 419
        },
        "outputId": "28e8d558-4dfa-46a2-edad-a356a7b31aa6"
      },
      "source": [
        "df_clean_smiles = pd.concat([df_no_smiles,smiles], axis=1)\n",
        "df_clean_smiles"
      ],
      "execution_count": null,
      "outputs": [
        {
          "output_type": "execute_result",
          "data": {
            "text/html": [
              "<div>\n",
              "<style scoped>\n",
              "    .dataframe tbody tr th:only-of-type {\n",
              "        vertical-align: middle;\n",
              "    }\n",
              "\n",
              "    .dataframe tbody tr th {\n",
              "        vertical-align: top;\n",
              "    }\n",
              "\n",
              "    .dataframe thead th {\n",
              "        text-align: right;\n",
              "    }\n",
              "</style>\n",
              "<table border=\"1\" class=\"dataframe\">\n",
              "  <thead>\n",
              "    <tr style=\"text-align: right;\">\n",
              "      <th></th>\n",
              "      <th>molecule_chembl_id</th>\n",
              "      <th>standard_value</th>\n",
              "      <th>class</th>\n",
              "      <th>canonical_smiles</th>\n",
              "    </tr>\n",
              "  </thead>\n",
              "  <tbody>\n",
              "    <tr>\n",
              "      <th>0</th>\n",
              "      <td>CHEMBL406146</td>\n",
              "      <td>413.00</td>\n",
              "      <td>active</td>\n",
              "      <td>CC(C)C[C@H](NC(=O)[C@@H](NC(=O)[C@@H](N)CCC(=O...</td>\n",
              "    </tr>\n",
              "    <tr>\n",
              "      <th>1</th>\n",
              "      <td>CHEMBL78946</td>\n",
              "      <td>2.00</td>\n",
              "      <td>active</td>\n",
              "      <td>CC(C)C[C@H](NC(=O)[C@H](CC(N)=O)NC(=O)[C@@H](N...</td>\n",
              "    </tr>\n",
              "    <tr>\n",
              "      <th>2</th>\n",
              "      <td>CHEMBL324109</td>\n",
              "      <td>460.00</td>\n",
              "      <td>active</td>\n",
              "      <td>CCC(C)C[C@H](NC(=O)[C@H](CC(C)C)NC(C)=O)[C@@H]...</td>\n",
              "    </tr>\n",
              "    <tr>\n",
              "      <th>3</th>\n",
              "      <td>CHEMBL114147</td>\n",
              "      <td>9000.00</td>\n",
              "      <td>intermediate</td>\n",
              "      <td>CC(=O)NCC(=O)N[C@@H](Cc1ccccc1)[C@@H](O)CC(=O)...</td>\n",
              "    </tr>\n",
              "    <tr>\n",
              "      <th>4</th>\n",
              "      <td>CHEMBL419949</td>\n",
              "      <td>5600.00</td>\n",
              "      <td>intermediate</td>\n",
              "      <td>CC(=O)N[C@@H](Cc1ccccc1)C(=O)N[C@@H](Cc1ccccc1...</td>\n",
              "    </tr>\n",
              "    <tr>\n",
              "      <th>...</th>\n",
              "      <td>...</td>\n",
              "      <td>...</td>\n",
              "      <td>...</td>\n",
              "      <td>...</td>\n",
              "    </tr>\n",
              "    <tr>\n",
              "      <th>7057</th>\n",
              "      <td>CHEMBL4565226</td>\n",
              "      <td>33113.11</td>\n",
              "      <td>inactive</td>\n",
              "      <td>CC(Cc1cc2ccccc2nc1N)C(=O)NC[C@@]12CCCO[C@@H]1C...</td>\n",
              "    </tr>\n",
              "    <tr>\n",
              "      <th>7058</th>\n",
              "      <td>CHEMBL4520156</td>\n",
              "      <td>85113.80</td>\n",
              "      <td>inactive</td>\n",
              "      <td>Nc1nc2ccccc2cc1CCC(=O)N1CC[C@H]2OCCC[C@@]2(Cc2...</td>\n",
              "    </tr>\n",
              "    <tr>\n",
              "      <th>7059</th>\n",
              "      <td>CHEMBL4585673</td>\n",
              "      <td>28840.32</td>\n",
              "      <td>inactive</td>\n",
              "      <td>Nc1nc2ccccc2cc1CCC(=O)NC[C@@]12CCCO[C@@H]1CCOC2</td>\n",
              "    </tr>\n",
              "    <tr>\n",
              "      <th>7060</th>\n",
              "      <td>CHEMBL4546115</td>\n",
              "      <td>54954.09</td>\n",
              "      <td>inactive</td>\n",
              "      <td>COc1ccc2c(c1)[C@@H](O)[C@@]1(CCN(C(=O)CCc3cc4c...</td>\n",
              "    </tr>\n",
              "    <tr>\n",
              "      <th>7061</th>\n",
              "      <td>CHEMBL1821813</td>\n",
              "      <td>30902.95</td>\n",
              "      <td>inactive</td>\n",
              "      <td>Nc1nc2ccccc2cc1CCC(=O)NCC1CCCCC1</td>\n",
              "    </tr>\n",
              "  </tbody>\n",
              "</table>\n",
              "<p>7062 rows × 4 columns</p>\n",
              "</div>"
            ],
            "text/plain": [
              "     molecule_chembl_id  ...                                   canonical_smiles\n",
              "0          CHEMBL406146  ...  CC(C)C[C@H](NC(=O)[C@@H](NC(=O)[C@@H](N)CCC(=O...\n",
              "1           CHEMBL78946  ...  CC(C)C[C@H](NC(=O)[C@H](CC(N)=O)NC(=O)[C@@H](N...\n",
              "2          CHEMBL324109  ...  CCC(C)C[C@H](NC(=O)[C@H](CC(C)C)NC(C)=O)[C@@H]...\n",
              "3          CHEMBL114147  ...  CC(=O)NCC(=O)N[C@@H](Cc1ccccc1)[C@@H](O)CC(=O)...\n",
              "4          CHEMBL419949  ...  CC(=O)N[C@@H](Cc1ccccc1)C(=O)N[C@@H](Cc1ccccc1...\n",
              "...                 ...  ...                                                ...\n",
              "7057      CHEMBL4565226  ...  CC(Cc1cc2ccccc2nc1N)C(=O)NC[C@@]12CCCO[C@@H]1C...\n",
              "7058      CHEMBL4520156  ...  Nc1nc2ccccc2cc1CCC(=O)N1CC[C@H]2OCCC[C@@]2(Cc2...\n",
              "7059      CHEMBL4585673  ...    Nc1nc2ccccc2cc1CCC(=O)NC[C@@]12CCCO[C@@H]1CCOC2\n",
              "7060      CHEMBL4546115  ...  COc1ccc2c(c1)[C@@H](O)[C@@]1(CCN(C(=O)CCc3cc4c...\n",
              "7061      CHEMBL1821813  ...                   Nc1nc2ccccc2cc1CCC(=O)NCC1CCCCC1\n",
              "\n",
              "[7062 rows x 4 columns]"
            ]
          },
          "metadata": {
            "tags": []
          },
          "execution_count": 6
        }
      ]
    },
    {
      "cell_type": "markdown",
      "metadata": {
        "id": "YzN_S4Quro5S"
      },
      "source": [
        "## **Calculate Lipinski descriptors**\n",
        "Christopher Lipinski, a scientist at Pfizer, came up with a set of rule-of-thumb for evaluating the **druglikeness** of compounds. Such druglikeness is based on the Absorption, Distribution, Metabolism and Excretion (ADME) that is also known as the pharmacokinetic profile. Lipinski analyzed all orally active FDA-approved drugs in the formulation of what is to be known as the **Rule-of-Five** or **Lipinski's Rule**.\n",
        "\n",
        "The Lipinski's Rule stated the following:\n",
        "* Molecular weight < 500 Dalton\n",
        "* Octanol-water partition coefficient (LogP) < 5\n",
        "* Hydrogen bond donors < 5\n",
        "* Hydrogen bond acceptors < 10 "
      ]
    },
    {
      "cell_type": "markdown",
      "metadata": {
        "id": "9qn_eQcnxY7C"
      },
      "source": [
        "### **Import libraries**"
      ]
    },
    {
      "cell_type": "code",
      "metadata": {
        "id": "CgBjIdT-rnRU"
      },
      "source": [
        "import numpy as np\n",
        "from rdkit import Chem\n",
        "from rdkit.Chem import Descriptors, Lipinski"
      ],
      "execution_count": null,
      "outputs": []
    },
    {
      "cell_type": "markdown",
      "metadata": {
        "id": "JsgTV-ByxdMa"
      },
      "source": [
        "### **Calculate descriptors**"
      ]
    },
    {
      "cell_type": "code",
      "metadata": {
        "id": "bCXEY7a9ugO_"
      },
      "source": [
        "# Inspired by: https://codeocean.com/explore/capsules?query=tag:data-curation\n",
        "\n",
        "def lipinski(smiles, verbose=False):\n",
        "\n",
        "    moldata= []\n",
        "    for elem in smiles:\n",
        "        mol=Chem.MolFromSmiles(elem) \n",
        "        moldata.append(mol)\n",
        "       \n",
        "    baseData= np.arange(1,1)\n",
        "    i=0  \n",
        "    for mol in moldata:        \n",
        "       \n",
        "        desc_MolWt = Descriptors.MolWt(mol)\n",
        "        desc_MolLogP = Descriptors.MolLogP(mol)\n",
        "        desc_NumHDonors = Lipinski.NumHDonors(mol)\n",
        "        desc_NumHAcceptors = Lipinski.NumHAcceptors(mol)\n",
        "           \n",
        "        row = np.array([desc_MolWt,\n",
        "                        desc_MolLogP,\n",
        "                        desc_NumHDonors,\n",
        "                        desc_NumHAcceptors])   \n",
        "    \n",
        "        if(i==0):\n",
        "            baseData=row\n",
        "        else:\n",
        "            baseData=np.vstack([baseData, row])\n",
        "        i=i+1      \n",
        "    \n",
        "    columnNames=[\"MW\",\"LogP\",\"NumHDonors\",\"NumHAcceptors\"]   \n",
        "    descriptors = pd.DataFrame(data=baseData,columns=columnNames)\n",
        "    \n",
        "    return descriptors"
      ],
      "execution_count": null,
      "outputs": []
    },
    {
      "cell_type": "code",
      "metadata": {
        "id": "ThFIFw8IukMY",
        "colab": {
          "base_uri": "https://localhost:8080/",
          "height": 419
        },
        "outputId": "f82c2f65-374c-45bb-c54c-c860933aa0b0"
      },
      "source": [
        "df_lipinski = lipinski(df_clean_smiles.canonical_smiles)\n",
        "df_lipinski"
      ],
      "execution_count": null,
      "outputs": [
        {
          "output_type": "execute_result",
          "data": {
            "text/html": [
              "<div>\n",
              "<style scoped>\n",
              "    .dataframe tbody tr th:only-of-type {\n",
              "        vertical-align: middle;\n",
              "    }\n",
              "\n",
              "    .dataframe tbody tr th {\n",
              "        vertical-align: top;\n",
              "    }\n",
              "\n",
              "    .dataframe thead th {\n",
              "        text-align: right;\n",
              "    }\n",
              "</style>\n",
              "<table border=\"1\" class=\"dataframe\">\n",
              "  <thead>\n",
              "    <tr style=\"text-align: right;\">\n",
              "      <th></th>\n",
              "      <th>MW</th>\n",
              "      <th>LogP</th>\n",
              "      <th>NumHDonors</th>\n",
              "      <th>NumHAcceptors</th>\n",
              "    </tr>\n",
              "  </thead>\n",
              "  <tbody>\n",
              "    <tr>\n",
              "      <th>0</th>\n",
              "      <td>999.085</td>\n",
              "      <td>-1.4355</td>\n",
              "      <td>13.0</td>\n",
              "      <td>13.0</td>\n",
              "    </tr>\n",
              "    <tr>\n",
              "      <th>1</th>\n",
              "      <td>893.005</td>\n",
              "      <td>-1.7361</td>\n",
              "      <td>12.0</td>\n",
              "      <td>12.0</td>\n",
              "    </tr>\n",
              "    <tr>\n",
              "      <th>2</th>\n",
              "      <td>751.988</td>\n",
              "      <td>2.3535</td>\n",
              "      <td>8.0</td>\n",
              "      <td>9.0</td>\n",
              "    </tr>\n",
              "    <tr>\n",
              "      <th>3</th>\n",
              "      <td>737.895</td>\n",
              "      <td>1.9626</td>\n",
              "      <td>8.0</td>\n",
              "      <td>8.0</td>\n",
              "    </tr>\n",
              "    <tr>\n",
              "      <th>4</th>\n",
              "      <td>828.020</td>\n",
              "      <td>3.5739</td>\n",
              "      <td>8.0</td>\n",
              "      <td>8.0</td>\n",
              "    </tr>\n",
              "    <tr>\n",
              "      <th>...</th>\n",
              "      <td>...</td>\n",
              "      <td>...</td>\n",
              "      <td>...</td>\n",
              "      <td>...</td>\n",
              "    </tr>\n",
              "    <tr>\n",
              "      <th>7057</th>\n",
              "      <td>383.492</td>\n",
              "      <td>2.6975</td>\n",
              "      <td>2.0</td>\n",
              "      <td>5.0</td>\n",
              "    </tr>\n",
              "    <tr>\n",
              "      <th>7058</th>\n",
              "      <td>429.564</td>\n",
              "      <td>4.3900</td>\n",
              "      <td>1.0</td>\n",
              "      <td>4.0</td>\n",
              "    </tr>\n",
              "    <tr>\n",
              "      <th>7059</th>\n",
              "      <td>369.465</td>\n",
              "      <td>2.4515</td>\n",
              "      <td>2.0</td>\n",
              "      <td>5.0</td>\n",
              "    </tr>\n",
              "    <tr>\n",
              "      <th>7060</th>\n",
              "      <td>417.509</td>\n",
              "      <td>3.2666</td>\n",
              "      <td>2.0</td>\n",
              "      <td>5.0</td>\n",
              "    </tr>\n",
              "    <tr>\n",
              "      <th>7061</th>\n",
              "      <td>311.429</td>\n",
              "      <td>3.4461</td>\n",
              "      <td>2.0</td>\n",
              "      <td>3.0</td>\n",
              "    </tr>\n",
              "  </tbody>\n",
              "</table>\n",
              "<p>7062 rows × 4 columns</p>\n",
              "</div>"
            ],
            "text/plain": [
              "           MW    LogP  NumHDonors  NumHAcceptors\n",
              "0     999.085 -1.4355        13.0           13.0\n",
              "1     893.005 -1.7361        12.0           12.0\n",
              "2     751.988  2.3535         8.0            9.0\n",
              "3     737.895  1.9626         8.0            8.0\n",
              "4     828.020  3.5739         8.0            8.0\n",
              "...       ...     ...         ...            ...\n",
              "7057  383.492  2.6975         2.0            5.0\n",
              "7058  429.564  4.3900         1.0            4.0\n",
              "7059  369.465  2.4515         2.0            5.0\n",
              "7060  417.509  3.2666         2.0            5.0\n",
              "7061  311.429  3.4461         2.0            3.0\n",
              "\n",
              "[7062 rows x 4 columns]"
            ]
          },
          "metadata": {
            "tags": []
          },
          "execution_count": 9
        }
      ]
    },
    {
      "cell_type": "markdown",
      "metadata": {
        "id": "gUMlPfFrxicj"
      },
      "source": [
        "### **Combine DataFrames**\n",
        "\n",
        "Let's take a look at the 2 DataFrames that will be combined."
      ]
    },
    {
      "cell_type": "code",
      "metadata": {
        "id": "DaezyM5vwp9n",
        "colab": {
          "base_uri": "https://localhost:8080/",
          "height": 419
        },
        "outputId": "ab1c6c88-2466-4fad-e48b-b5cc27cb7456"
      },
      "source": [
        "df_lipinski"
      ],
      "execution_count": null,
      "outputs": [
        {
          "output_type": "execute_result",
          "data": {
            "text/html": [
              "<div>\n",
              "<style scoped>\n",
              "    .dataframe tbody tr th:only-of-type {\n",
              "        vertical-align: middle;\n",
              "    }\n",
              "\n",
              "    .dataframe tbody tr th {\n",
              "        vertical-align: top;\n",
              "    }\n",
              "\n",
              "    .dataframe thead th {\n",
              "        text-align: right;\n",
              "    }\n",
              "</style>\n",
              "<table border=\"1\" class=\"dataframe\">\n",
              "  <thead>\n",
              "    <tr style=\"text-align: right;\">\n",
              "      <th></th>\n",
              "      <th>MW</th>\n",
              "      <th>LogP</th>\n",
              "      <th>NumHDonors</th>\n",
              "      <th>NumHAcceptors</th>\n",
              "    </tr>\n",
              "  </thead>\n",
              "  <tbody>\n",
              "    <tr>\n",
              "      <th>0</th>\n",
              "      <td>999.085</td>\n",
              "      <td>-1.4355</td>\n",
              "      <td>13.0</td>\n",
              "      <td>13.0</td>\n",
              "    </tr>\n",
              "    <tr>\n",
              "      <th>1</th>\n",
              "      <td>893.005</td>\n",
              "      <td>-1.7361</td>\n",
              "      <td>12.0</td>\n",
              "      <td>12.0</td>\n",
              "    </tr>\n",
              "    <tr>\n",
              "      <th>2</th>\n",
              "      <td>751.988</td>\n",
              "      <td>2.3535</td>\n",
              "      <td>8.0</td>\n",
              "      <td>9.0</td>\n",
              "    </tr>\n",
              "    <tr>\n",
              "      <th>3</th>\n",
              "      <td>737.895</td>\n",
              "      <td>1.9626</td>\n",
              "      <td>8.0</td>\n",
              "      <td>8.0</td>\n",
              "    </tr>\n",
              "    <tr>\n",
              "      <th>4</th>\n",
              "      <td>828.020</td>\n",
              "      <td>3.5739</td>\n",
              "      <td>8.0</td>\n",
              "      <td>8.0</td>\n",
              "    </tr>\n",
              "    <tr>\n",
              "      <th>...</th>\n",
              "      <td>...</td>\n",
              "      <td>...</td>\n",
              "      <td>...</td>\n",
              "      <td>...</td>\n",
              "    </tr>\n",
              "    <tr>\n",
              "      <th>7057</th>\n",
              "      <td>383.492</td>\n",
              "      <td>2.6975</td>\n",
              "      <td>2.0</td>\n",
              "      <td>5.0</td>\n",
              "    </tr>\n",
              "    <tr>\n",
              "      <th>7058</th>\n",
              "      <td>429.564</td>\n",
              "      <td>4.3900</td>\n",
              "      <td>1.0</td>\n",
              "      <td>4.0</td>\n",
              "    </tr>\n",
              "    <tr>\n",
              "      <th>7059</th>\n",
              "      <td>369.465</td>\n",
              "      <td>2.4515</td>\n",
              "      <td>2.0</td>\n",
              "      <td>5.0</td>\n",
              "    </tr>\n",
              "    <tr>\n",
              "      <th>7060</th>\n",
              "      <td>417.509</td>\n",
              "      <td>3.2666</td>\n",
              "      <td>2.0</td>\n",
              "      <td>5.0</td>\n",
              "    </tr>\n",
              "    <tr>\n",
              "      <th>7061</th>\n",
              "      <td>311.429</td>\n",
              "      <td>3.4461</td>\n",
              "      <td>2.0</td>\n",
              "      <td>3.0</td>\n",
              "    </tr>\n",
              "  </tbody>\n",
              "</table>\n",
              "<p>7062 rows × 4 columns</p>\n",
              "</div>"
            ],
            "text/plain": [
              "           MW    LogP  NumHDonors  NumHAcceptors\n",
              "0     999.085 -1.4355        13.0           13.0\n",
              "1     893.005 -1.7361        12.0           12.0\n",
              "2     751.988  2.3535         8.0            9.0\n",
              "3     737.895  1.9626         8.0            8.0\n",
              "4     828.020  3.5739         8.0            8.0\n",
              "...       ...     ...         ...            ...\n",
              "7057  383.492  2.6975         2.0            5.0\n",
              "7058  429.564  4.3900         1.0            4.0\n",
              "7059  369.465  2.4515         2.0            5.0\n",
              "7060  417.509  3.2666         2.0            5.0\n",
              "7061  311.429  3.4461         2.0            3.0\n",
              "\n",
              "[7062 rows x 4 columns]"
            ]
          },
          "metadata": {
            "tags": []
          },
          "execution_count": 10
        }
      ]
    },
    {
      "cell_type": "code",
      "metadata": {
        "id": "9-ChzM8_wuq_",
        "colab": {
          "base_uri": "https://localhost:8080/",
          "height": 419
        },
        "outputId": "67b48e0b-140b-46bc-b23f-f626e5b5891e"
      },
      "source": [
        "df"
      ],
      "execution_count": null,
      "outputs": [
        {
          "output_type": "execute_result",
          "data": {
            "text/html": [
              "<div>\n",
              "<style scoped>\n",
              "    .dataframe tbody tr th:only-of-type {\n",
              "        vertical-align: middle;\n",
              "    }\n",
              "\n",
              "    .dataframe tbody tr th {\n",
              "        vertical-align: top;\n",
              "    }\n",
              "\n",
              "    .dataframe thead th {\n",
              "        text-align: right;\n",
              "    }\n",
              "</style>\n",
              "<table border=\"1\" class=\"dataframe\">\n",
              "  <thead>\n",
              "    <tr style=\"text-align: right;\">\n",
              "      <th></th>\n",
              "      <th>molecule_chembl_id</th>\n",
              "      <th>canonical_smiles</th>\n",
              "      <th>standard_value</th>\n",
              "      <th>class</th>\n",
              "    </tr>\n",
              "  </thead>\n",
              "  <tbody>\n",
              "    <tr>\n",
              "      <th>0</th>\n",
              "      <td>CHEMBL406146</td>\n",
              "      <td>CC(C)C[C@H](NC(=O)[C@@H](NC(=O)[C@@H](N)CCC(=O...</td>\n",
              "      <td>413.00</td>\n",
              "      <td>active</td>\n",
              "    </tr>\n",
              "    <tr>\n",
              "      <th>1</th>\n",
              "      <td>CHEMBL78946</td>\n",
              "      <td>CC(C)C[C@H](NC(=O)[C@H](CC(N)=O)NC(=O)[C@@H](N...</td>\n",
              "      <td>2.00</td>\n",
              "      <td>active</td>\n",
              "    </tr>\n",
              "    <tr>\n",
              "      <th>2</th>\n",
              "      <td>CHEMBL324109</td>\n",
              "      <td>CCC(C)C[C@H](NC(=O)[C@H](CC(C)C)NC(C)=O)[C@@H]...</td>\n",
              "      <td>460.00</td>\n",
              "      <td>active</td>\n",
              "    </tr>\n",
              "    <tr>\n",
              "      <th>3</th>\n",
              "      <td>CHEMBL114147</td>\n",
              "      <td>CC(=O)NCC(=O)N[C@@H](Cc1ccccc1)[C@@H](O)CC(=O)...</td>\n",
              "      <td>9000.00</td>\n",
              "      <td>intermediate</td>\n",
              "    </tr>\n",
              "    <tr>\n",
              "      <th>4</th>\n",
              "      <td>CHEMBL419949</td>\n",
              "      <td>CC(=O)N[C@@H](Cc1ccccc1)C(=O)N[C@@H](Cc1ccccc1...</td>\n",
              "      <td>5600.00</td>\n",
              "      <td>intermediate</td>\n",
              "    </tr>\n",
              "    <tr>\n",
              "      <th>...</th>\n",
              "      <td>...</td>\n",
              "      <td>...</td>\n",
              "      <td>...</td>\n",
              "      <td>...</td>\n",
              "    </tr>\n",
              "    <tr>\n",
              "      <th>7057</th>\n",
              "      <td>CHEMBL4565226</td>\n",
              "      <td>CC(Cc1cc2ccccc2nc1N)C(=O)NC[C@@]12CCCO[C@@H]1C...</td>\n",
              "      <td>33113.11</td>\n",
              "      <td>inactive</td>\n",
              "    </tr>\n",
              "    <tr>\n",
              "      <th>7058</th>\n",
              "      <td>CHEMBL4520156</td>\n",
              "      <td>Nc1nc2ccccc2cc1CCC(=O)N1CC[C@H]2OCCC[C@@]2(Cc2...</td>\n",
              "      <td>85113.80</td>\n",
              "      <td>inactive</td>\n",
              "    </tr>\n",
              "    <tr>\n",
              "      <th>7059</th>\n",
              "      <td>CHEMBL4585673</td>\n",
              "      <td>Nc1nc2ccccc2cc1CCC(=O)NC[C@@]12CCCO[C@@H]1CCOC2</td>\n",
              "      <td>28840.32</td>\n",
              "      <td>inactive</td>\n",
              "    </tr>\n",
              "    <tr>\n",
              "      <th>7060</th>\n",
              "      <td>CHEMBL4546115</td>\n",
              "      <td>COc1ccc2c(c1)[C@@H](O)[C@@]1(CCN(C(=O)CCc3cc4c...</td>\n",
              "      <td>54954.09</td>\n",
              "      <td>inactive</td>\n",
              "    </tr>\n",
              "    <tr>\n",
              "      <th>7061</th>\n",
              "      <td>CHEMBL1821813</td>\n",
              "      <td>Nc1nc2ccccc2cc1CCC(=O)NCC1CCCCC1</td>\n",
              "      <td>30902.95</td>\n",
              "      <td>inactive</td>\n",
              "    </tr>\n",
              "  </tbody>\n",
              "</table>\n",
              "<p>7062 rows × 4 columns</p>\n",
              "</div>"
            ],
            "text/plain": [
              "     molecule_chembl_id  ...         class\n",
              "0          CHEMBL406146  ...        active\n",
              "1           CHEMBL78946  ...        active\n",
              "2          CHEMBL324109  ...        active\n",
              "3          CHEMBL114147  ...  intermediate\n",
              "4          CHEMBL419949  ...  intermediate\n",
              "...                 ...  ...           ...\n",
              "7057      CHEMBL4565226  ...      inactive\n",
              "7058      CHEMBL4520156  ...      inactive\n",
              "7059      CHEMBL4585673  ...      inactive\n",
              "7060      CHEMBL4546115  ...      inactive\n",
              "7061      CHEMBL1821813  ...      inactive\n",
              "\n",
              "[7062 rows x 4 columns]"
            ]
          },
          "metadata": {
            "tags": []
          },
          "execution_count": 11
        }
      ]
    },
    {
      "cell_type": "markdown",
      "metadata": {
        "id": "eET6iZ1Aw3oe"
      },
      "source": [
        "Now, let's combine the 2 DataFrame"
      ]
    },
    {
      "cell_type": "code",
      "metadata": {
        "id": "L9nUZC0Ww3gp"
      },
      "source": [
        "df_combined = pd.concat([df,df_lipinski], axis=1)"
      ],
      "execution_count": null,
      "outputs": []
    },
    {
      "cell_type": "code",
      "metadata": {
        "id": "FRBfBP3QxFJp",
        "colab": {
          "base_uri": "https://localhost:8080/",
          "height": 439
        },
        "outputId": "a8e80a2b-82b1-4363-ae3d-a9178e7631ba"
      },
      "source": [
        "df_combined"
      ],
      "execution_count": null,
      "outputs": [
        {
          "output_type": "execute_result",
          "data": {
            "text/html": [
              "<div>\n",
              "<style scoped>\n",
              "    .dataframe tbody tr th:only-of-type {\n",
              "        vertical-align: middle;\n",
              "    }\n",
              "\n",
              "    .dataframe tbody tr th {\n",
              "        vertical-align: top;\n",
              "    }\n",
              "\n",
              "    .dataframe thead th {\n",
              "        text-align: right;\n",
              "    }\n",
              "</style>\n",
              "<table border=\"1\" class=\"dataframe\">\n",
              "  <thead>\n",
              "    <tr style=\"text-align: right;\">\n",
              "      <th></th>\n",
              "      <th>molecule_chembl_id</th>\n",
              "      <th>canonical_smiles</th>\n",
              "      <th>standard_value</th>\n",
              "      <th>class</th>\n",
              "      <th>MW</th>\n",
              "      <th>LogP</th>\n",
              "      <th>NumHDonors</th>\n",
              "      <th>NumHAcceptors</th>\n",
              "    </tr>\n",
              "  </thead>\n",
              "  <tbody>\n",
              "    <tr>\n",
              "      <th>0</th>\n",
              "      <td>CHEMBL406146</td>\n",
              "      <td>CC(C)C[C@H](NC(=O)[C@@H](NC(=O)[C@@H](N)CCC(=O...</td>\n",
              "      <td>413.00</td>\n",
              "      <td>active</td>\n",
              "      <td>999.085</td>\n",
              "      <td>-1.4355</td>\n",
              "      <td>13.0</td>\n",
              "      <td>13.0</td>\n",
              "    </tr>\n",
              "    <tr>\n",
              "      <th>1</th>\n",
              "      <td>CHEMBL78946</td>\n",
              "      <td>CC(C)C[C@H](NC(=O)[C@H](CC(N)=O)NC(=O)[C@@H](N...</td>\n",
              "      <td>2.00</td>\n",
              "      <td>active</td>\n",
              "      <td>893.005</td>\n",
              "      <td>-1.7361</td>\n",
              "      <td>12.0</td>\n",
              "      <td>12.0</td>\n",
              "    </tr>\n",
              "    <tr>\n",
              "      <th>2</th>\n",
              "      <td>CHEMBL324109</td>\n",
              "      <td>CCC(C)C[C@H](NC(=O)[C@H](CC(C)C)NC(C)=O)[C@@H]...</td>\n",
              "      <td>460.00</td>\n",
              "      <td>active</td>\n",
              "      <td>751.988</td>\n",
              "      <td>2.3535</td>\n",
              "      <td>8.0</td>\n",
              "      <td>9.0</td>\n",
              "    </tr>\n",
              "    <tr>\n",
              "      <th>3</th>\n",
              "      <td>CHEMBL114147</td>\n",
              "      <td>CC(=O)NCC(=O)N[C@@H](Cc1ccccc1)[C@@H](O)CC(=O)...</td>\n",
              "      <td>9000.00</td>\n",
              "      <td>intermediate</td>\n",
              "      <td>737.895</td>\n",
              "      <td>1.9626</td>\n",
              "      <td>8.0</td>\n",
              "      <td>8.0</td>\n",
              "    </tr>\n",
              "    <tr>\n",
              "      <th>4</th>\n",
              "      <td>CHEMBL419949</td>\n",
              "      <td>CC(=O)N[C@@H](Cc1ccccc1)C(=O)N[C@@H](Cc1ccccc1...</td>\n",
              "      <td>5600.00</td>\n",
              "      <td>intermediate</td>\n",
              "      <td>828.020</td>\n",
              "      <td>3.5739</td>\n",
              "      <td>8.0</td>\n",
              "      <td>8.0</td>\n",
              "    </tr>\n",
              "    <tr>\n",
              "      <th>...</th>\n",
              "      <td>...</td>\n",
              "      <td>...</td>\n",
              "      <td>...</td>\n",
              "      <td>...</td>\n",
              "      <td>...</td>\n",
              "      <td>...</td>\n",
              "      <td>...</td>\n",
              "      <td>...</td>\n",
              "    </tr>\n",
              "    <tr>\n",
              "      <th>7057</th>\n",
              "      <td>CHEMBL4565226</td>\n",
              "      <td>CC(Cc1cc2ccccc2nc1N)C(=O)NC[C@@]12CCCO[C@@H]1C...</td>\n",
              "      <td>33113.11</td>\n",
              "      <td>inactive</td>\n",
              "      <td>383.492</td>\n",
              "      <td>2.6975</td>\n",
              "      <td>2.0</td>\n",
              "      <td>5.0</td>\n",
              "    </tr>\n",
              "    <tr>\n",
              "      <th>7058</th>\n",
              "      <td>CHEMBL4520156</td>\n",
              "      <td>Nc1nc2ccccc2cc1CCC(=O)N1CC[C@H]2OCCC[C@@]2(Cc2...</td>\n",
              "      <td>85113.80</td>\n",
              "      <td>inactive</td>\n",
              "      <td>429.564</td>\n",
              "      <td>4.3900</td>\n",
              "      <td>1.0</td>\n",
              "      <td>4.0</td>\n",
              "    </tr>\n",
              "    <tr>\n",
              "      <th>7059</th>\n",
              "      <td>CHEMBL4585673</td>\n",
              "      <td>Nc1nc2ccccc2cc1CCC(=O)NC[C@@]12CCCO[C@@H]1CCOC2</td>\n",
              "      <td>28840.32</td>\n",
              "      <td>inactive</td>\n",
              "      <td>369.465</td>\n",
              "      <td>2.4515</td>\n",
              "      <td>2.0</td>\n",
              "      <td>5.0</td>\n",
              "    </tr>\n",
              "    <tr>\n",
              "      <th>7060</th>\n",
              "      <td>CHEMBL4546115</td>\n",
              "      <td>COc1ccc2c(c1)[C@@H](O)[C@@]1(CCN(C(=O)CCc3cc4c...</td>\n",
              "      <td>54954.09</td>\n",
              "      <td>inactive</td>\n",
              "      <td>417.509</td>\n",
              "      <td>3.2666</td>\n",
              "      <td>2.0</td>\n",
              "      <td>5.0</td>\n",
              "    </tr>\n",
              "    <tr>\n",
              "      <th>7061</th>\n",
              "      <td>CHEMBL1821813</td>\n",
              "      <td>Nc1nc2ccccc2cc1CCC(=O)NCC1CCCCC1</td>\n",
              "      <td>30902.95</td>\n",
              "      <td>inactive</td>\n",
              "      <td>311.429</td>\n",
              "      <td>3.4461</td>\n",
              "      <td>2.0</td>\n",
              "      <td>3.0</td>\n",
              "    </tr>\n",
              "  </tbody>\n",
              "</table>\n",
              "<p>7062 rows × 8 columns</p>\n",
              "</div>"
            ],
            "text/plain": [
              "     molecule_chembl_id  ... NumHAcceptors\n",
              "0          CHEMBL406146  ...          13.0\n",
              "1           CHEMBL78946  ...          12.0\n",
              "2          CHEMBL324109  ...           9.0\n",
              "3          CHEMBL114147  ...           8.0\n",
              "4          CHEMBL419949  ...           8.0\n",
              "...                 ...  ...           ...\n",
              "7057      CHEMBL4565226  ...           5.0\n",
              "7058      CHEMBL4520156  ...           4.0\n",
              "7059      CHEMBL4585673  ...           5.0\n",
              "7060      CHEMBL4546115  ...           5.0\n",
              "7061      CHEMBL1821813  ...           3.0\n",
              "\n",
              "[7062 rows x 8 columns]"
            ]
          },
          "metadata": {
            "tags": []
          },
          "execution_count": 13
        }
      ]
    },
    {
      "cell_type": "markdown",
      "metadata": {
        "id": "e0MLOedB6j96"
      },
      "source": [
        "### **Convert IC50 to pIC50**\n",
        "To allow **IC50** data to be more uniformly distributed, we will convert **IC50** to the negative logarithmic scale which is essentially **-log10(IC50)**.\n",
        "\n",
        "This custom function pIC50() will accept a DataFrame as input and will:\n",
        "* Take the IC50 values from the ``standard_value`` column and converts it from nM to M by multiplying the value by 10$^{-9}$\n",
        "* Take the molar value and apply -log10\n",
        "* Delete the ``standard_value`` column and create a new ``pIC50`` column"
      ]
    },
    {
      "cell_type": "code",
      "metadata": {
        "id": "UXMuFQoQ4pZF"
      },
      "source": [
        "# https://github.com/chaninlab/estrogen-receptor-alpha-qsar/blob/master/02_ER_alpha_RO5.ipynb\n",
        "\n",
        "import numpy as np\n",
        "\n",
        "def pIC50(input):\n",
        "    pIC50 = []\n",
        "\n",
        "    for i in input['standard_value_norm']:\n",
        "        molar = i*(10**-9) # Converts nM to M\n",
        "        pIC50.append(-np.log10(molar))\n",
        "\n",
        "    input['pIC50'] = pIC50\n",
        "    x = input.drop('standard_value_norm', 1)\n",
        "        \n",
        "    return x"
      ],
      "execution_count": null,
      "outputs": []
    },
    {
      "cell_type": "markdown",
      "metadata": {
        "id": "WU5Fh1h2OaJJ"
      },
      "source": [
        "Point to note: Values greater than 100,000,000 will be fixed at 100,000,000 otherwise the negative logarithmic value will become negative."
      ]
    },
    {
      "cell_type": "code",
      "metadata": {
        "id": "QuUTFUpcR1wU",
        "colab": {
          "base_uri": "https://localhost:8080/"
        },
        "outputId": "22fa2bb1-8722-4508-c01e-0c20c5e90022"
      },
      "source": [
        "df_combined.standard_value.describe()"
      ],
      "execution_count": null,
      "outputs": [
        {
          "output_type": "execute_result",
          "data": {
            "text/plain": [
              "count    7.062000e+03\n",
              "mean     4.166184e+04\n",
              "std      1.126615e+06\n",
              "min      2.000000e-04\n",
              "25%      2.900000e+01\n",
              "50%      2.500000e+02\n",
              "75%      3.168070e+03\n",
              "max      8.600000e+07\n",
              "Name: standard_value, dtype: float64"
            ]
          },
          "metadata": {
            "tags": []
          },
          "execution_count": 15
        }
      ]
    },
    {
      "cell_type": "code",
      "metadata": {
        "id": "QyiJ0to5N6Z_",
        "colab": {
          "base_uri": "https://localhost:8080/"
        },
        "outputId": "96dca73d-90c9-43ed-8713-ee0281f3df1a"
      },
      "source": [
        "-np.log10( (10**-9)* 100000000 )"
      ],
      "execution_count": null,
      "outputs": [
        {
          "output_type": "execute_result",
          "data": {
            "text/plain": [
              "1.0"
            ]
          },
          "metadata": {
            "tags": []
          },
          "execution_count": 16
        }
      ]
    },
    {
      "cell_type": "code",
      "metadata": {
        "id": "9S1aJkOYOP6K",
        "colab": {
          "base_uri": "https://localhost:8080/"
        },
        "outputId": "7adf1e6a-358d-44c4-e227-51df8c363d37"
      },
      "source": [
        "-np.log10( (10**-9)* 10000000000 )"
      ],
      "execution_count": null,
      "outputs": [
        {
          "output_type": "execute_result",
          "data": {
            "text/plain": [
              "-1.0"
            ]
          },
          "metadata": {
            "tags": []
          },
          "execution_count": 17
        }
      ]
    },
    {
      "cell_type": "code",
      "metadata": {
        "id": "iktHDDwtPDwl"
      },
      "source": [
        "def norm_value(input):\n",
        "    norm = []\n",
        "\n",
        "    for i in input['standard_value']:\n",
        "        if i > 100000000:\n",
        "          i = 100000000\n",
        "        norm.append(i)\n",
        "\n",
        "    input['standard_value_norm'] = norm\n",
        "    x = input.drop('standard_value', 1)\n",
        "        \n",
        "    return x"
      ],
      "execution_count": null,
      "outputs": []
    },
    {
      "cell_type": "markdown",
      "metadata": {
        "id": "EkrTs7RfPsrH"
      },
      "source": [
        "We will first apply the norm_value() function so that the values in the standard_value column is normalized."
      ]
    },
    {
      "cell_type": "code",
      "metadata": {
        "id": "EX2Mj2-ZP1Rj",
        "colab": {
          "base_uri": "https://localhost:8080/",
          "height": 439
        },
        "outputId": "21d327ab-236b-49eb-e019-cd5e37c076b7"
      },
      "source": [
        "df_norm = norm_value(df_combined)\n",
        "df_norm"
      ],
      "execution_count": null,
      "outputs": [
        {
          "output_type": "execute_result",
          "data": {
            "text/html": [
              "<div>\n",
              "<style scoped>\n",
              "    .dataframe tbody tr th:only-of-type {\n",
              "        vertical-align: middle;\n",
              "    }\n",
              "\n",
              "    .dataframe tbody tr th {\n",
              "        vertical-align: top;\n",
              "    }\n",
              "\n",
              "    .dataframe thead th {\n",
              "        text-align: right;\n",
              "    }\n",
              "</style>\n",
              "<table border=\"1\" class=\"dataframe\">\n",
              "  <thead>\n",
              "    <tr style=\"text-align: right;\">\n",
              "      <th></th>\n",
              "      <th>molecule_chembl_id</th>\n",
              "      <th>canonical_smiles</th>\n",
              "      <th>class</th>\n",
              "      <th>MW</th>\n",
              "      <th>LogP</th>\n",
              "      <th>NumHDonors</th>\n",
              "      <th>NumHAcceptors</th>\n",
              "      <th>standard_value_norm</th>\n",
              "    </tr>\n",
              "  </thead>\n",
              "  <tbody>\n",
              "    <tr>\n",
              "      <th>0</th>\n",
              "      <td>CHEMBL406146</td>\n",
              "      <td>CC(C)C[C@H](NC(=O)[C@@H](NC(=O)[C@@H](N)CCC(=O...</td>\n",
              "      <td>active</td>\n",
              "      <td>999.085</td>\n",
              "      <td>-1.4355</td>\n",
              "      <td>13.0</td>\n",
              "      <td>13.0</td>\n",
              "      <td>413.00</td>\n",
              "    </tr>\n",
              "    <tr>\n",
              "      <th>1</th>\n",
              "      <td>CHEMBL78946</td>\n",
              "      <td>CC(C)C[C@H](NC(=O)[C@H](CC(N)=O)NC(=O)[C@@H](N...</td>\n",
              "      <td>active</td>\n",
              "      <td>893.005</td>\n",
              "      <td>-1.7361</td>\n",
              "      <td>12.0</td>\n",
              "      <td>12.0</td>\n",
              "      <td>2.00</td>\n",
              "    </tr>\n",
              "    <tr>\n",
              "      <th>2</th>\n",
              "      <td>CHEMBL324109</td>\n",
              "      <td>CCC(C)C[C@H](NC(=O)[C@H](CC(C)C)NC(C)=O)[C@@H]...</td>\n",
              "      <td>active</td>\n",
              "      <td>751.988</td>\n",
              "      <td>2.3535</td>\n",
              "      <td>8.0</td>\n",
              "      <td>9.0</td>\n",
              "      <td>460.00</td>\n",
              "    </tr>\n",
              "    <tr>\n",
              "      <th>3</th>\n",
              "      <td>CHEMBL114147</td>\n",
              "      <td>CC(=O)NCC(=O)N[C@@H](Cc1ccccc1)[C@@H](O)CC(=O)...</td>\n",
              "      <td>intermediate</td>\n",
              "      <td>737.895</td>\n",
              "      <td>1.9626</td>\n",
              "      <td>8.0</td>\n",
              "      <td>8.0</td>\n",
              "      <td>9000.00</td>\n",
              "    </tr>\n",
              "    <tr>\n",
              "      <th>4</th>\n",
              "      <td>CHEMBL419949</td>\n",
              "      <td>CC(=O)N[C@@H](Cc1ccccc1)C(=O)N[C@@H](Cc1ccccc1...</td>\n",
              "      <td>intermediate</td>\n",
              "      <td>828.020</td>\n",
              "      <td>3.5739</td>\n",
              "      <td>8.0</td>\n",
              "      <td>8.0</td>\n",
              "      <td>5600.00</td>\n",
              "    </tr>\n",
              "    <tr>\n",
              "      <th>...</th>\n",
              "      <td>...</td>\n",
              "      <td>...</td>\n",
              "      <td>...</td>\n",
              "      <td>...</td>\n",
              "      <td>...</td>\n",
              "      <td>...</td>\n",
              "      <td>...</td>\n",
              "      <td>...</td>\n",
              "    </tr>\n",
              "    <tr>\n",
              "      <th>7057</th>\n",
              "      <td>CHEMBL4565226</td>\n",
              "      <td>CC(Cc1cc2ccccc2nc1N)C(=O)NC[C@@]12CCCO[C@@H]1C...</td>\n",
              "      <td>inactive</td>\n",
              "      <td>383.492</td>\n",
              "      <td>2.6975</td>\n",
              "      <td>2.0</td>\n",
              "      <td>5.0</td>\n",
              "      <td>33113.11</td>\n",
              "    </tr>\n",
              "    <tr>\n",
              "      <th>7058</th>\n",
              "      <td>CHEMBL4520156</td>\n",
              "      <td>Nc1nc2ccccc2cc1CCC(=O)N1CC[C@H]2OCCC[C@@]2(Cc2...</td>\n",
              "      <td>inactive</td>\n",
              "      <td>429.564</td>\n",
              "      <td>4.3900</td>\n",
              "      <td>1.0</td>\n",
              "      <td>4.0</td>\n",
              "      <td>85113.80</td>\n",
              "    </tr>\n",
              "    <tr>\n",
              "      <th>7059</th>\n",
              "      <td>CHEMBL4585673</td>\n",
              "      <td>Nc1nc2ccccc2cc1CCC(=O)NC[C@@]12CCCO[C@@H]1CCOC2</td>\n",
              "      <td>inactive</td>\n",
              "      <td>369.465</td>\n",
              "      <td>2.4515</td>\n",
              "      <td>2.0</td>\n",
              "      <td>5.0</td>\n",
              "      <td>28840.32</td>\n",
              "    </tr>\n",
              "    <tr>\n",
              "      <th>7060</th>\n",
              "      <td>CHEMBL4546115</td>\n",
              "      <td>COc1ccc2c(c1)[C@@H](O)[C@@]1(CCN(C(=O)CCc3cc4c...</td>\n",
              "      <td>inactive</td>\n",
              "      <td>417.509</td>\n",
              "      <td>3.2666</td>\n",
              "      <td>2.0</td>\n",
              "      <td>5.0</td>\n",
              "      <td>54954.09</td>\n",
              "    </tr>\n",
              "    <tr>\n",
              "      <th>7061</th>\n",
              "      <td>CHEMBL1821813</td>\n",
              "      <td>Nc1nc2ccccc2cc1CCC(=O)NCC1CCCCC1</td>\n",
              "      <td>inactive</td>\n",
              "      <td>311.429</td>\n",
              "      <td>3.4461</td>\n",
              "      <td>2.0</td>\n",
              "      <td>3.0</td>\n",
              "      <td>30902.95</td>\n",
              "    </tr>\n",
              "  </tbody>\n",
              "</table>\n",
              "<p>7062 rows × 8 columns</p>\n",
              "</div>"
            ],
            "text/plain": [
              "     molecule_chembl_id  ... standard_value_norm\n",
              "0          CHEMBL406146  ...              413.00\n",
              "1           CHEMBL78946  ...                2.00\n",
              "2          CHEMBL324109  ...              460.00\n",
              "3          CHEMBL114147  ...             9000.00\n",
              "4          CHEMBL419949  ...             5600.00\n",
              "...                 ...  ...                 ...\n",
              "7057      CHEMBL4565226  ...            33113.11\n",
              "7058      CHEMBL4520156  ...            85113.80\n",
              "7059      CHEMBL4585673  ...            28840.32\n",
              "7060      CHEMBL4546115  ...            54954.09\n",
              "7061      CHEMBL1821813  ...            30902.95\n",
              "\n",
              "[7062 rows x 8 columns]"
            ]
          },
          "metadata": {
            "tags": []
          },
          "execution_count": 19
        }
      ]
    },
    {
      "cell_type": "code",
      "metadata": {
        "id": "hb1eKrIjRiH9",
        "colab": {
          "base_uri": "https://localhost:8080/"
        },
        "outputId": "8d3170b1-87a4-4d38-cde7-6f5ce03dd756"
      },
      "source": [
        "df_norm.standard_value_norm.describe()"
      ],
      "execution_count": null,
      "outputs": [
        {
          "output_type": "execute_result",
          "data": {
            "text/plain": [
              "count    7.062000e+03\n",
              "mean     4.166184e+04\n",
              "std      1.126615e+06\n",
              "min      2.000000e-04\n",
              "25%      2.900000e+01\n",
              "50%      2.500000e+02\n",
              "75%      3.168070e+03\n",
              "max      8.600000e+07\n",
              "Name: standard_value_norm, dtype: float64"
            ]
          },
          "metadata": {
            "tags": []
          },
          "execution_count": 20
        }
      ]
    },
    {
      "cell_type": "code",
      "metadata": {
        "id": "UDKZzmK57YnS",
        "colab": {
          "base_uri": "https://localhost:8080/",
          "height": 419
        },
        "outputId": "fd4d0c58-f5e0-4daa-f939-cd72904040ac"
      },
      "source": [
        "df_final = pIC50(df_norm)\n",
        "df_final"
      ],
      "execution_count": null,
      "outputs": [
        {
          "output_type": "execute_result",
          "data": {
            "text/html": [
              "<div>\n",
              "<style scoped>\n",
              "    .dataframe tbody tr th:only-of-type {\n",
              "        vertical-align: middle;\n",
              "    }\n",
              "\n",
              "    .dataframe tbody tr th {\n",
              "        vertical-align: top;\n",
              "    }\n",
              "\n",
              "    .dataframe thead th {\n",
              "        text-align: right;\n",
              "    }\n",
              "</style>\n",
              "<table border=\"1\" class=\"dataframe\">\n",
              "  <thead>\n",
              "    <tr style=\"text-align: right;\">\n",
              "      <th></th>\n",
              "      <th>molecule_chembl_id</th>\n",
              "      <th>canonical_smiles</th>\n",
              "      <th>class</th>\n",
              "      <th>MW</th>\n",
              "      <th>LogP</th>\n",
              "      <th>NumHDonors</th>\n",
              "      <th>NumHAcceptors</th>\n",
              "      <th>pIC50</th>\n",
              "    </tr>\n",
              "  </thead>\n",
              "  <tbody>\n",
              "    <tr>\n",
              "      <th>0</th>\n",
              "      <td>CHEMBL406146</td>\n",
              "      <td>CC(C)C[C@H](NC(=O)[C@@H](NC(=O)[C@@H](N)CCC(=O...</td>\n",
              "      <td>active</td>\n",
              "      <td>999.085</td>\n",
              "      <td>-1.4355</td>\n",
              "      <td>13.0</td>\n",
              "      <td>13.0</td>\n",
              "      <td>6.384050</td>\n",
              "    </tr>\n",
              "    <tr>\n",
              "      <th>1</th>\n",
              "      <td>CHEMBL78946</td>\n",
              "      <td>CC(C)C[C@H](NC(=O)[C@H](CC(N)=O)NC(=O)[C@@H](N...</td>\n",
              "      <td>active</td>\n",
              "      <td>893.005</td>\n",
              "      <td>-1.7361</td>\n",
              "      <td>12.0</td>\n",
              "      <td>12.0</td>\n",
              "      <td>8.698970</td>\n",
              "    </tr>\n",
              "    <tr>\n",
              "      <th>2</th>\n",
              "      <td>CHEMBL324109</td>\n",
              "      <td>CCC(C)C[C@H](NC(=O)[C@H](CC(C)C)NC(C)=O)[C@@H]...</td>\n",
              "      <td>active</td>\n",
              "      <td>751.988</td>\n",
              "      <td>2.3535</td>\n",
              "      <td>8.0</td>\n",
              "      <td>9.0</td>\n",
              "      <td>6.337242</td>\n",
              "    </tr>\n",
              "    <tr>\n",
              "      <th>3</th>\n",
              "      <td>CHEMBL114147</td>\n",
              "      <td>CC(=O)NCC(=O)N[C@@H](Cc1ccccc1)[C@@H](O)CC(=O)...</td>\n",
              "      <td>intermediate</td>\n",
              "      <td>737.895</td>\n",
              "      <td>1.9626</td>\n",
              "      <td>8.0</td>\n",
              "      <td>8.0</td>\n",
              "      <td>5.045757</td>\n",
              "    </tr>\n",
              "    <tr>\n",
              "      <th>4</th>\n",
              "      <td>CHEMBL419949</td>\n",
              "      <td>CC(=O)N[C@@H](Cc1ccccc1)C(=O)N[C@@H](Cc1ccccc1...</td>\n",
              "      <td>intermediate</td>\n",
              "      <td>828.020</td>\n",
              "      <td>3.5739</td>\n",
              "      <td>8.0</td>\n",
              "      <td>8.0</td>\n",
              "      <td>5.251812</td>\n",
              "    </tr>\n",
              "    <tr>\n",
              "      <th>...</th>\n",
              "      <td>...</td>\n",
              "      <td>...</td>\n",
              "      <td>...</td>\n",
              "      <td>...</td>\n",
              "      <td>...</td>\n",
              "      <td>...</td>\n",
              "      <td>...</td>\n",
              "      <td>...</td>\n",
              "    </tr>\n",
              "    <tr>\n",
              "      <th>7057</th>\n",
              "      <td>CHEMBL4565226</td>\n",
              "      <td>CC(Cc1cc2ccccc2nc1N)C(=O)NC[C@@]12CCCO[C@@H]1C...</td>\n",
              "      <td>inactive</td>\n",
              "      <td>383.492</td>\n",
              "      <td>2.6975</td>\n",
              "      <td>2.0</td>\n",
              "      <td>5.0</td>\n",
              "      <td>4.480000</td>\n",
              "    </tr>\n",
              "    <tr>\n",
              "      <th>7058</th>\n",
              "      <td>CHEMBL4520156</td>\n",
              "      <td>Nc1nc2ccccc2cc1CCC(=O)N1CC[C@H]2OCCC[C@@]2(Cc2...</td>\n",
              "      <td>inactive</td>\n",
              "      <td>429.564</td>\n",
              "      <td>4.3900</td>\n",
              "      <td>1.0</td>\n",
              "      <td>4.0</td>\n",
              "      <td>4.070000</td>\n",
              "    </tr>\n",
              "    <tr>\n",
              "      <th>7059</th>\n",
              "      <td>CHEMBL4585673</td>\n",
              "      <td>Nc1nc2ccccc2cc1CCC(=O)NC[C@@]12CCCO[C@@H]1CCOC2</td>\n",
              "      <td>inactive</td>\n",
              "      <td>369.465</td>\n",
              "      <td>2.4515</td>\n",
              "      <td>2.0</td>\n",
              "      <td>5.0</td>\n",
              "      <td>4.540000</td>\n",
              "    </tr>\n",
              "    <tr>\n",
              "      <th>7060</th>\n",
              "      <td>CHEMBL4546115</td>\n",
              "      <td>COc1ccc2c(c1)[C@@H](O)[C@@]1(CCN(C(=O)CCc3cc4c...</td>\n",
              "      <td>inactive</td>\n",
              "      <td>417.509</td>\n",
              "      <td>3.2666</td>\n",
              "      <td>2.0</td>\n",
              "      <td>5.0</td>\n",
              "      <td>4.260000</td>\n",
              "    </tr>\n",
              "    <tr>\n",
              "      <th>7061</th>\n",
              "      <td>CHEMBL1821813</td>\n",
              "      <td>Nc1nc2ccccc2cc1CCC(=O)NCC1CCCCC1</td>\n",
              "      <td>inactive</td>\n",
              "      <td>311.429</td>\n",
              "      <td>3.4461</td>\n",
              "      <td>2.0</td>\n",
              "      <td>3.0</td>\n",
              "      <td>4.510000</td>\n",
              "    </tr>\n",
              "  </tbody>\n",
              "</table>\n",
              "<p>7062 rows × 8 columns</p>\n",
              "</div>"
            ],
            "text/plain": [
              "     molecule_chembl_id  ...     pIC50\n",
              "0          CHEMBL406146  ...  6.384050\n",
              "1           CHEMBL78946  ...  8.698970\n",
              "2          CHEMBL324109  ...  6.337242\n",
              "3          CHEMBL114147  ...  5.045757\n",
              "4          CHEMBL419949  ...  5.251812\n",
              "...                 ...  ...       ...\n",
              "7057      CHEMBL4565226  ...  4.480000\n",
              "7058      CHEMBL4520156  ...  4.070000\n",
              "7059      CHEMBL4585673  ...  4.540000\n",
              "7060      CHEMBL4546115  ...  4.260000\n",
              "7061      CHEMBL1821813  ...  4.510000\n",
              "\n",
              "[7062 rows x 8 columns]"
            ]
          },
          "metadata": {
            "tags": []
          },
          "execution_count": 21
        }
      ]
    },
    {
      "cell_type": "code",
      "metadata": {
        "id": "BoqY53udSTYC",
        "colab": {
          "base_uri": "https://localhost:8080/"
        },
        "outputId": "dd230bb3-f3da-40ec-f0b7-b325232a901b"
      },
      "source": [
        "df_final.pIC50.describe()"
      ],
      "execution_count": null,
      "outputs": [
        {
          "output_type": "execute_result",
          "data": {
            "text/plain": [
              "count    7062.000000\n",
              "mean        6.489196\n",
              "std         1.389928\n",
              "min         1.065502\n",
              "25%         5.499205\n",
              "50%         6.602060\n",
              "75%         7.537602\n",
              "max        12.698970\n",
              "Name: pIC50, dtype: float64"
            ]
          },
          "metadata": {
            "tags": []
          },
          "execution_count": 22
        }
      ]
    },
    {
      "cell_type": "markdown",
      "metadata": {
        "id": "TTB-xkOcgwRX"
      },
      "source": [
        "Let's write this to CSV file."
      ]
    },
    {
      "cell_type": "code",
      "metadata": {
        "id": "sbZfHUSOgykw"
      },
      "source": [
        "df_final.to_csv('BACE1_04_bioactivity_data_3class_pIC50.csv')"
      ],
      "execution_count": null,
      "outputs": []
    },
    {
      "cell_type": "markdown",
      "metadata": {
        "id": "05vHBWvqaQtb"
      },
      "source": [
        "### **Removing the 'intermediate' bioactivity class**\n",
        "Here, we will be removing the ``intermediate`` class from our data set."
      ]
    },
    {
      "cell_type": "code",
      "metadata": {
        "id": "HmrndhDW3c7Z",
        "colab": {
          "base_uri": "https://localhost:8080/",
          "height": 419
        },
        "outputId": "965fe329-72ff-40a0-b50c-d828ba4bd04e"
      },
      "source": [
        "df_2class = df_final[df_final['class'] != 'intermediate']\n",
        "df_2class"
      ],
      "execution_count": null,
      "outputs": [
        {
          "output_type": "execute_result",
          "data": {
            "text/html": [
              "<div>\n",
              "<style scoped>\n",
              "    .dataframe tbody tr th:only-of-type {\n",
              "        vertical-align: middle;\n",
              "    }\n",
              "\n",
              "    .dataframe tbody tr th {\n",
              "        vertical-align: top;\n",
              "    }\n",
              "\n",
              "    .dataframe thead th {\n",
              "        text-align: right;\n",
              "    }\n",
              "</style>\n",
              "<table border=\"1\" class=\"dataframe\">\n",
              "  <thead>\n",
              "    <tr style=\"text-align: right;\">\n",
              "      <th></th>\n",
              "      <th>molecule_chembl_id</th>\n",
              "      <th>canonical_smiles</th>\n",
              "      <th>class</th>\n",
              "      <th>MW</th>\n",
              "      <th>LogP</th>\n",
              "      <th>NumHDonors</th>\n",
              "      <th>NumHAcceptors</th>\n",
              "      <th>pIC50</th>\n",
              "    </tr>\n",
              "  </thead>\n",
              "  <tbody>\n",
              "    <tr>\n",
              "      <th>0</th>\n",
              "      <td>CHEMBL406146</td>\n",
              "      <td>CC(C)C[C@H](NC(=O)[C@@H](NC(=O)[C@@H](N)CCC(=O...</td>\n",
              "      <td>active</td>\n",
              "      <td>999.085</td>\n",
              "      <td>-1.4355</td>\n",
              "      <td>13.0</td>\n",
              "      <td>13.0</td>\n",
              "      <td>6.384050</td>\n",
              "    </tr>\n",
              "    <tr>\n",
              "      <th>1</th>\n",
              "      <td>CHEMBL78946</td>\n",
              "      <td>CC(C)C[C@H](NC(=O)[C@H](CC(N)=O)NC(=O)[C@@H](N...</td>\n",
              "      <td>active</td>\n",
              "      <td>893.005</td>\n",
              "      <td>-1.7361</td>\n",
              "      <td>12.0</td>\n",
              "      <td>12.0</td>\n",
              "      <td>8.698970</td>\n",
              "    </tr>\n",
              "    <tr>\n",
              "      <th>2</th>\n",
              "      <td>CHEMBL324109</td>\n",
              "      <td>CCC(C)C[C@H](NC(=O)[C@H](CC(C)C)NC(C)=O)[C@@H]...</td>\n",
              "      <td>active</td>\n",
              "      <td>751.988</td>\n",
              "      <td>2.3535</td>\n",
              "      <td>8.0</td>\n",
              "      <td>9.0</td>\n",
              "      <td>6.337242</td>\n",
              "    </tr>\n",
              "    <tr>\n",
              "      <th>5</th>\n",
              "      <td>CHEMBL116826</td>\n",
              "      <td>CCC(C)C[C@H](NC(=O)[C@H](CC(C)C)NC(C)=O)[C@@H]...</td>\n",
              "      <td>inactive</td>\n",
              "      <td>767.987</td>\n",
              "      <td>1.3690</td>\n",
              "      <td>8.0</td>\n",
              "      <td>9.0</td>\n",
              "      <td>4.468521</td>\n",
              "    </tr>\n",
              "    <tr>\n",
              "      <th>6</th>\n",
              "      <td>CHEMBL143239</td>\n",
              "      <td>CC(C)[C@H](NC(=O)C[C@H](O)[C@H](Cc1cc(F)cc(F)c...</td>\n",
              "      <td>active</td>\n",
              "      <td>717.722</td>\n",
              "      <td>4.3196</td>\n",
              "      <td>7.0</td>\n",
              "      <td>7.0</td>\n",
              "      <td>7.698970</td>\n",
              "    </tr>\n",
              "    <tr>\n",
              "      <th>...</th>\n",
              "      <td>...</td>\n",
              "      <td>...</td>\n",
              "      <td>...</td>\n",
              "      <td>...</td>\n",
              "      <td>...</td>\n",
              "      <td>...</td>\n",
              "      <td>...</td>\n",
              "      <td>...</td>\n",
              "    </tr>\n",
              "    <tr>\n",
              "      <th>7057</th>\n",
              "      <td>CHEMBL4565226</td>\n",
              "      <td>CC(Cc1cc2ccccc2nc1N)C(=O)NC[C@@]12CCCO[C@@H]1C...</td>\n",
              "      <td>inactive</td>\n",
              "      <td>383.492</td>\n",
              "      <td>2.6975</td>\n",
              "      <td>2.0</td>\n",
              "      <td>5.0</td>\n",
              "      <td>4.480000</td>\n",
              "    </tr>\n",
              "    <tr>\n",
              "      <th>7058</th>\n",
              "      <td>CHEMBL4520156</td>\n",
              "      <td>Nc1nc2ccccc2cc1CCC(=O)N1CC[C@H]2OCCC[C@@]2(Cc2...</td>\n",
              "      <td>inactive</td>\n",
              "      <td>429.564</td>\n",
              "      <td>4.3900</td>\n",
              "      <td>1.0</td>\n",
              "      <td>4.0</td>\n",
              "      <td>4.070000</td>\n",
              "    </tr>\n",
              "    <tr>\n",
              "      <th>7059</th>\n",
              "      <td>CHEMBL4585673</td>\n",
              "      <td>Nc1nc2ccccc2cc1CCC(=O)NC[C@@]12CCCO[C@@H]1CCOC2</td>\n",
              "      <td>inactive</td>\n",
              "      <td>369.465</td>\n",
              "      <td>2.4515</td>\n",
              "      <td>2.0</td>\n",
              "      <td>5.0</td>\n",
              "      <td>4.540000</td>\n",
              "    </tr>\n",
              "    <tr>\n",
              "      <th>7060</th>\n",
              "      <td>CHEMBL4546115</td>\n",
              "      <td>COc1ccc2c(c1)[C@@H](O)[C@@]1(CCN(C(=O)CCc3cc4c...</td>\n",
              "      <td>inactive</td>\n",
              "      <td>417.509</td>\n",
              "      <td>3.2666</td>\n",
              "      <td>2.0</td>\n",
              "      <td>5.0</td>\n",
              "      <td>4.260000</td>\n",
              "    </tr>\n",
              "    <tr>\n",
              "      <th>7061</th>\n",
              "      <td>CHEMBL1821813</td>\n",
              "      <td>Nc1nc2ccccc2cc1CCC(=O)NCC1CCCCC1</td>\n",
              "      <td>inactive</td>\n",
              "      <td>311.429</td>\n",
              "      <td>3.4461</td>\n",
              "      <td>2.0</td>\n",
              "      <td>3.0</td>\n",
              "      <td>4.510000</td>\n",
              "    </tr>\n",
              "  </tbody>\n",
              "</table>\n",
              "<p>5739 rows × 8 columns</p>\n",
              "</div>"
            ],
            "text/plain": [
              "     molecule_chembl_id  ...     pIC50\n",
              "0          CHEMBL406146  ...  6.384050\n",
              "1           CHEMBL78946  ...  8.698970\n",
              "2          CHEMBL324109  ...  6.337242\n",
              "5          CHEMBL116826  ...  4.468521\n",
              "6          CHEMBL143239  ...  7.698970\n",
              "...                 ...  ...       ...\n",
              "7057      CHEMBL4565226  ...  4.480000\n",
              "7058      CHEMBL4520156  ...  4.070000\n",
              "7059      CHEMBL4585673  ...  4.540000\n",
              "7060      CHEMBL4546115  ...  4.260000\n",
              "7061      CHEMBL1821813  ...  4.510000\n",
              "\n",
              "[5739 rows x 8 columns]"
            ]
          },
          "metadata": {
            "tags": []
          },
          "execution_count": 24
        }
      ]
    },
    {
      "cell_type": "markdown",
      "metadata": {
        "id": "GJGRNXXigd1o"
      },
      "source": [
        "Let's write this to CSV file."
      ]
    },
    {
      "cell_type": "code",
      "metadata": {
        "id": "XIiYdeL5ghCo"
      },
      "source": [
        "df_2class.to_csv('BACE1_05_bioactivity_data_2class_pIC50.csv')"
      ],
      "execution_count": null,
      "outputs": []
    },
    {
      "cell_type": "markdown",
      "metadata": {
        "id": "p9vA4-hQQ8sA"
      },
      "source": [
        "---"
      ]
    },
    {
      "cell_type": "markdown",
      "metadata": {
        "id": "x0vqbQWfxsZu"
      },
      "source": [
        "## **Exploratory Data Analysis (Chemical Space Analysis) via Lipinski descriptors**"
      ]
    },
    {
      "cell_type": "markdown",
      "metadata": {
        "id": "18heJagiyHoF"
      },
      "source": [
        "### **Import library**"
      ]
    },
    {
      "cell_type": "code",
      "metadata": {
        "id": "0Egq_rNsxtIj"
      },
      "source": [
        "import seaborn as sns\n",
        "sns.set(style='ticks')\n",
        "import matplotlib.pyplot as plt"
      ],
      "execution_count": null,
      "outputs": []
    },
    {
      "cell_type": "markdown",
      "metadata": {
        "id": "NiarmFbOdG3H"
      },
      "source": [
        "### **Frequency plot of the 2 bioactivity classes**"
      ]
    },
    {
      "cell_type": "code",
      "metadata": {
        "id": "w2Ia0iycdMO2",
        "colab": {
          "base_uri": "https://localhost:8080/",
          "height": 367
        },
        "outputId": "de911464-f243-425c-c15e-2dd7a6557a28"
      },
      "source": [
        "plt.figure(figsize=(5.5, 5.5))\n",
        "\n",
        "sns.countplot(x='class', data=df_2class, edgecolor='black')\n",
        "\n",
        "plt.xlabel('Bioactivity class', fontsize=14, fontweight='bold')\n",
        "plt.ylabel('Frequency', fontsize=14, fontweight='bold')\n",
        "\n",
        "plt.savefig('plot_bioactivity_class.pdf')"
      ],
      "execution_count": null,
      "outputs": [
        {
          "output_type": "display_data",
          "data": {
            "image/png": "[encoded data removed]",
            "text/plain": [
              "<Figure size 396x396 with 1 Axes>"
            ]
          },
          "metadata": {
            "tags": []
          }
        }
      ]
    },
    {
      "cell_type": "markdown",
      "metadata": {
        "id": "wB68NKVG0j68"
      },
      "source": [
        "### **Scatter plot of MW versus LogP**\n",
        "\n",
        "It can be seen that the 2 bioactivity classes are spanning similar chemical spaces as evident by the scatter plot of MW vs LogP."
      ]
    },
    {
      "cell_type": "code",
      "metadata": {
        "id": "F79BNwjF0nub",
        "colab": {
          "base_uri": "https://localhost:8080/",
          "height": 367
        },
        "outputId": "13360e09-464f-4756-cc05-ed84c1c12552"
      },
      "source": [
        "plt.figure(figsize=(5.5, 5.5))\n",
        "\n",
        "sns.scatterplot(x='MW', y='LogP', data=df_2class, hue='class', size='pIC50', edgecolor='black', alpha=0.7)\n",
        "\n",
        "plt.xlabel('MW', fontsize=14, fontweight='bold')\n",
        "plt.ylabel('LogP', fontsize=14, fontweight='bold')\n",
        "plt.legend(bbox_to_anchor=(1.05, 1), loc=2, borderaxespad=0)\n",
        "plt.savefig('plot_MW_vs_LogP.pdf')"
      ],
      "execution_count": null,
      "outputs": [
        {
          "output_type": "display_data",
          "data": {
            "image/png": "[encoded data removed]",
            "text/plain": [
              "<Figure size 396x396 with 1 Axes>"
            ]
          },
          "metadata": {
            "tags": []
          }
        }
      ]
    },
    {
      "cell_type": "markdown",
      "metadata": {
        "id": "oLAfyRwHyJfX"
      },
      "source": [
        "### **Box plots**"
      ]
    },
    {
      "cell_type": "markdown",
      "metadata": {
        "id": "1n1uIAivyOkY"
      },
      "source": [
        "#### **pIC50 value**"
      ]
    },
    {
      "cell_type": "code",
      "metadata": {
        "id": "EpPviw0hxue6",
        "colab": {
          "base_uri": "https://localhost:8080/",
          "height": 367
        },
        "outputId": "6f9850a2-d287-4172-dfdb-23245d7b36cb"
      },
      "source": [
        "plt.figure(figsize=(5.5, 5.5))\n",
        "\n",
        "sns.boxplot(x = 'class', y = 'pIC50', data = df_2class)\n",
        "\n",
        "plt.xlabel('Bioactivity class', fontsize=14, fontweight='bold')\n",
        "plt.ylabel('pIC50 value', fontsize=14, fontweight='bold')\n",
        "\n",
        "plt.savefig('plot_ic50.pdf')"
      ],
      "execution_count": null,
      "outputs": [
        {
          "output_type": "display_data",
          "data": {
            "image/png": "[encoded data removed]",
            "text/plain": [
              "<Figure size 396x396 with 1 Axes>"
            ]
          },
          "metadata": {
            "tags": []
          }
        }
      ]
    },
    {
      "cell_type": "markdown",
      "metadata": {
        "id": "PsOqKyysCZCv"
      },
      "source": [
        "**Statistical analysis | Mann-Whitney U Test**"
      ]
    },
    {
      "cell_type": "code",
      "metadata": {
        "id": "LPdV1vDnWBsh"
      },
      "source": [
        "def mannwhitney(descriptor, verbose=False):\n",
        "  # https://machinelearningmastery.com/nonparametric-statistical-significance-tests-in-python/\n",
        "  from numpy.random import seed\n",
        "  from numpy.random import randn\n",
        "  from scipy.stats import mannwhitneyu\n",
        "\n",
        "# seed the random number generator\n",
        "  seed(1)\n",
        "\n",
        "# actives and inactives\n",
        "  selection = [descriptor, 'class']\n",
        "  df = df_2class[selection]\n",
        "  active = df[df['class'] == 'active']\n",
        "  active = active[descriptor]\n",
        "\n",
        "  selection = [descriptor, 'class']\n",
        "  df = df_2class[selection]\n",
        "  inactive = df[df['class'] == 'inactive']\n",
        "  inactive = inactive[descriptor]\n",
        "\n",
        "# compare samples\n",
        "  stat, p = mannwhitneyu(active, inactive)\n",
        "  #print('Statistics=%.3f, p=%.3f' % (stat, p))\n",
        "\n",
        "# interpret\n",
        "  alpha = 0.05\n",
        "  if p > alpha:\n",
        "    interpretation = 'Same distribution (fail to reject H0)'\n",
        "  else:\n",
        "    interpretation = 'Different distribution (reject H0)'\n",
        "  \n",
        "  results = pd.DataFrame({'Descriptor':descriptor,\n",
        "                          'Statistics':stat,\n",
        "                          'p':p,\n",
        "                          'alpha':alpha,\n",
        "                          'Interpretation':interpretation}, index=[0])\n",
        "  filename = 'mannwhitneyu_' + descriptor + '.csv'\n",
        "  results.to_csv(filename)\n",
        "\n",
        "  return results"
      ],
      "execution_count": null,
      "outputs": []
    },
    {
      "cell_type": "code",
      "metadata": {
        "id": "HZmUgOmdYVm5",
        "colab": {
          "base_uri": "https://localhost:8080/",
          "height": 80
        },
        "outputId": "cdce5ac4-81c6-48d7-cd13-bf2bda277e3b"
      },
      "source": [
        "mannwhitney('pIC50')"
      ],
      "execution_count": null,
      "outputs": [
        {
          "output_type": "execute_result",
          "data": {
            "text/html": [
              "<div>\n",
              "<style scoped>\n",
              "    .dataframe tbody tr th:only-of-type {\n",
              "        vertical-align: middle;\n",
              "    }\n",
              "\n",
              "    .dataframe tbody tr th {\n",
              "        vertical-align: top;\n",
              "    }\n",
              "\n",
              "    .dataframe thead th {\n",
              "        text-align: right;\n",
              "    }\n",
              "</style>\n",
              "<table border=\"1\" class=\"dataframe\">\n",
              "  <thead>\n",
              "    <tr style=\"text-align: right;\">\n",
              "      <th></th>\n",
              "      <th>Descriptor</th>\n",
              "      <th>Statistics</th>\n",
              "      <th>p</th>\n",
              "      <th>alpha</th>\n",
              "      <th>Interpretation</th>\n",
              "    </tr>\n",
              "  </thead>\n",
              "  <tbody>\n",
              "    <tr>\n",
              "      <th>0</th>\n",
              "      <td>pIC50</td>\n",
              "      <td>0.0</td>\n",
              "      <td>0.0</td>\n",
              "      <td>0.05</td>\n",
              "      <td>Different distribution (reject H0)</td>\n",
              "    </tr>\n",
              "  </tbody>\n",
              "</table>\n",
              "</div>"
            ],
            "text/plain": [
              "  Descriptor  Statistics    p  alpha                      Interpretation\n",
              "0      pIC50         0.0  0.0   0.05  Different distribution (reject H0)"
            ]
          },
          "metadata": {
            "tags": []
          },
          "execution_count": 41
        }
      ]
    },
    {
      "cell_type": "markdown",
      "metadata": {
        "id": "o2UlCwPmyTBq"
      },
      "source": [
        "#### **MW**"
      ]
    },
    {
      "cell_type": "code",
      "metadata": {
        "id": "ZNlEEsDEx3m6",
        "colab": {
          "base_uri": "https://localhost:8080/",
          "height": 371
        },
        "outputId": "84ef5a48-8b03-42da-e03d-4f64d527eae7"
      },
      "source": [
        "plt.figure(figsize=(5.5, 5.5))\n",
        "\n",
        "sns.boxplot(x = 'class', y = 'MW', data = df_2class)\n",
        "\n",
        "plt.xlabel('Bioactivity class', fontsize=14, fontweight='bold')\n",
        "plt.ylabel('MW', fontsize=14, fontweight='bold')\n",
        "\n",
        "plt.savefig('plot_MW.pdf')"
      ],
      "execution_count": null,
      "outputs": [
        {
          "output_type": "display_data",
          "data": {
            "image/png": "[encoded data removed]",
            "text/plain": [
              "<Figure size 396x396 with 1 Axes>"
            ]
          },
          "metadata": {
            "tags": []
          }
        }
      ]
    },
    {
      "cell_type": "code",
      "metadata": {
        "id": "wRl2FvgHYqaG",
        "colab": {
          "base_uri": "https://localhost:8080/",
          "height": 80
        },
        "outputId": "9ef13d2b-23be-407d-a91b-ea4d7c5b4a62"
      },
      "source": [
        "mannwhitney('MW')"
      ],
      "execution_count": null,
      "outputs": [
        {
          "output_type": "execute_result",
          "data": {
            "text/html": [
              "<div>\n",
              "<style scoped>\n",
              "    .dataframe tbody tr th:only-of-type {\n",
              "        vertical-align: middle;\n",
              "    }\n",
              "\n",
              "    .dataframe tbody tr th {\n",
              "        vertical-align: top;\n",
              "    }\n",
              "\n",
              "    .dataframe thead th {\n",
              "        text-align: right;\n",
              "    }\n",
              "</style>\n",
              "<table border=\"1\" class=\"dataframe\">\n",
              "  <thead>\n",
              "    <tr style=\"text-align: right;\">\n",
              "      <th></th>\n",
              "      <th>Descriptor</th>\n",
              "      <th>Statistics</th>\n",
              "      <th>p</th>\n",
              "      <th>alpha</th>\n",
              "      <th>Interpretation</th>\n",
              "    </tr>\n",
              "  </thead>\n",
              "  <tbody>\n",
              "    <tr>\n",
              "      <th>0</th>\n",
              "      <td>MW</td>\n",
              "      <td>2372118.0</td>\n",
              "      <td>8.563718e-12</td>\n",
              "      <td>0.05</td>\n",
              "      <td>Different distribution (reject H0)</td>\n",
              "    </tr>\n",
              "  </tbody>\n",
              "</table>\n",
              "</div>"
            ],
            "text/plain": [
              "  Descriptor  Statistics  ...  alpha                      Interpretation\n",
              "0         MW   2372118.0  ...   0.05  Different distribution (reject H0)\n",
              "\n",
              "[1 rows x 5 columns]"
            ]
          },
          "metadata": {
            "tags": []
          },
          "execution_count": 33
        }
      ]
    },
    {
      "cell_type": "markdown",
      "metadata": {
        "id": "z5hyBhGqyc6J"
      },
      "source": [
        "#### **LogP**"
      ]
    },
    {
      "cell_type": "code",
      "metadata": {
        "id": "liEtkpI4yX9t",
        "colab": {
          "base_uri": "https://localhost:8080/",
          "height": 367
        },
        "outputId": "64443de6-2a3a-4b97-a91f-efd3627b28fa"
      },
      "source": [
        "plt.figure(figsize=(5.5, 5.5))\n",
        "\n",
        "sns.boxplot(x = 'class', y = 'LogP', data = df_2class)\n",
        "\n",
        "plt.xlabel('Bioactivity class', fontsize=14, fontweight='bold')\n",
        "plt.ylabel('LogP', fontsize=14, fontweight='bold')\n",
        "\n",
        "plt.savefig('plot_LogP.pdf')"
      ],
      "execution_count": null,
      "outputs": [
        {
          "output_type": "display_data",
          "data": {
            "image/png": "[encoded data removed]",
            "text/plain": [
              "<Figure size 396x396 with 1 Axes>"
            ]
          },
          "metadata": {
            "tags": []
          }
        }
      ]
    },
    {
      "cell_type": "markdown",
      "metadata": {
        "id": "2KgV5v_oFLXh"
      },
      "source": [
        "**Statistical analysis | Mann-Whitney U Test**"
      ]
    },
    {
      "cell_type": "code",
      "metadata": {
        "id": "B61UsGMIFLuE",
        "colab": {
          "base_uri": "https://localhost:8080/",
          "height": 80
        },
        "outputId": "04f895cb-8937-49f7-9032-5a4af685a11a"
      },
      "source": [
        "mannwhitney('LogP')"
      ],
      "execution_count": null,
      "outputs": [
        {
          "output_type": "execute_result",
          "data": {
            "text/html": [
              "<div>\n",
              "<style scoped>\n",
              "    .dataframe tbody tr th:only-of-type {\n",
              "        vertical-align: middle;\n",
              "    }\n",
              "\n",
              "    .dataframe tbody tr th {\n",
              "        vertical-align: top;\n",
              "    }\n",
              "\n",
              "    .dataframe thead th {\n",
              "        text-align: right;\n",
              "    }\n",
              "</style>\n",
              "<table border=\"1\" class=\"dataframe\">\n",
              "  <thead>\n",
              "    <tr style=\"text-align: right;\">\n",
              "      <th></th>\n",
              "      <th>Descriptor</th>\n",
              "      <th>Statistics</th>\n",
              "      <th>p</th>\n",
              "      <th>alpha</th>\n",
              "      <th>Interpretation</th>\n",
              "    </tr>\n",
              "  </thead>\n",
              "  <tbody>\n",
              "    <tr>\n",
              "      <th>0</th>\n",
              "      <td>LogP</td>\n",
              "      <td>2397983.5</td>\n",
              "      <td>2.468324e-10</td>\n",
              "      <td>0.05</td>\n",
              "      <td>Different distribution (reject H0)</td>\n",
              "    </tr>\n",
              "  </tbody>\n",
              "</table>\n",
              "</div>"
            ],
            "text/plain": [
              "  Descriptor  Statistics  ...  alpha                      Interpretation\n",
              "0       LogP   2397983.5  ...   0.05  Different distribution (reject H0)\n",
              "\n",
              "[1 rows x 5 columns]"
            ]
          },
          "metadata": {
            "tags": []
          },
          "execution_count": 35
        }
      ]
    },
    {
      "cell_type": "markdown",
      "metadata": {
        "id": "4db7LZLRym2k"
      },
      "source": [
        " **NumHDonors**"
      ]
    },
    {
      "cell_type": "code",
      "metadata": {
        "id": "iru1JPM1yg5A",
        "colab": {
          "base_uri": "https://localhost:8080/",
          "height": 367
        },
        "outputId": "17b4a6a9-dbc8-4914-d7e5-26575f5f42e1"
      },
      "source": [
        "plt.figure(figsize=(5.5, 5.5))\n",
        "\n",
        "sns.boxplot(x = 'class', y = 'NumHDonors', data = df_2class)\n",
        "\n",
        "plt.xlabel('Bioactivity class', fontsize=14, fontweight='bold')\n",
        "plt.ylabel('NumHDonors', fontsize=14, fontweight='bold')\n",
        "\n",
        "plt.savefig('plot_NumHDonors.pdf')"
      ],
      "execution_count": null,
      "outputs": [
        {
          "output_type": "display_data",
          "data": {
            "image/png": "[encoded data removed]",
            "text/plain": [
              "<Figure size 396x396 with 1 Axes>"
            ]
          },
          "metadata": {
            "tags": []
          }
        }
      ]
    },
    {
      "cell_type": "markdown",
      "metadata": {
        "id": "vM5vZWanFe3c"
      },
      "source": [
        "**Statistical analysis | Mann-Whitney U Test**"
      ]
    },
    {
      "cell_type": "code",
      "metadata": {
        "id": "mS-rOqq7Fd1E",
        "colab": {
          "base_uri": "https://localhost:8080/",
          "height": 80
        },
        "outputId": "195712e3-5883-410a-de53-bacc3e41235e"
      },
      "source": [
        "mannwhitney('NumHDonors')"
      ],
      "execution_count": null,
      "outputs": [
        {
          "output_type": "execute_result",
          "data": {
            "text/html": [
              "<div>\n",
              "<style scoped>\n",
              "    .dataframe tbody tr th:only-of-type {\n",
              "        vertical-align: middle;\n",
              "    }\n",
              "\n",
              "    .dataframe tbody tr th {\n",
              "        vertical-align: top;\n",
              "    }\n",
              "\n",
              "    .dataframe thead th {\n",
              "        text-align: right;\n",
              "    }\n",
              "</style>\n",
              "<table border=\"1\" class=\"dataframe\">\n",
              "  <thead>\n",
              "    <tr style=\"text-align: right;\">\n",
              "      <th></th>\n",
              "      <th>Descriptor</th>\n",
              "      <th>Statistics</th>\n",
              "      <th>p</th>\n",
              "      <th>alpha</th>\n",
              "      <th>Interpretation</th>\n",
              "    </tr>\n",
              "  </thead>\n",
              "  <tbody>\n",
              "    <tr>\n",
              "      <th>0</th>\n",
              "      <td>NumHDonors</td>\n",
              "      <td>2554752.0</td>\n",
              "      <td>0.000492</td>\n",
              "      <td>0.05</td>\n",
              "      <td>Different distribution (reject H0)</td>\n",
              "    </tr>\n",
              "  </tbody>\n",
              "</table>\n",
              "</div>"
            ],
            "text/plain": [
              "   Descriptor  Statistics         p  alpha                      Interpretation\n",
              "0  NumHDonors   2554752.0  0.000492   0.05  Different distribution (reject H0)"
            ]
          },
          "metadata": {
            "tags": []
          },
          "execution_count": 37
        }
      ]
    },
    {
      "cell_type": "markdown",
      "metadata": {
        "id": "yOYQ3QiSyu7-"
      },
      "source": [
        "#### **NumHAcceptors**"
      ]
    },
    {
      "cell_type": "code",
      "metadata": {
        "id": "yCw6tgNCyxHf",
        "colab": {
          "base_uri": "https://localhost:8080/",
          "height": 367
        },
        "outputId": "38650533-b15b-4c6f-9bde-b0912efa97f7"
      },
      "source": [
        "plt.figure(figsize=(5.5, 5.5))\n",
        "\n",
        "sns.boxplot(x = 'class', y = 'NumHAcceptors', data = df_2class)\n",
        "\n",
        "plt.xlabel('Bioactivity class', fontsize=14, fontweight='bold')\n",
        "plt.ylabel('NumHAcceptors', fontsize=14, fontweight='bold')\n",
        "\n",
        "plt.savefig('plot_NumHAcceptors.pdf')"
      ],
      "execution_count": null,
      "outputs": [
        {
          "output_type": "display_data",
          "data": {
            "image/png": "[encoded data removed]",
            "text/plain": [
              "<Figure size 396x396 with 1 Axes>"
            ]
          },
          "metadata": {
            "tags": []
          }
        }
      ]
    },
    {
      "cell_type": "code",
      "metadata": {
        "id": "NEQoDZctFtGG",
        "colab": {
          "base_uri": "https://localhost:8080/",
          "height": 80
        },
        "outputId": "3923cd39-de5a-4820-96a3-5d83a780242a"
      },
      "source": [
        "mannwhitney('NumHAcceptors')"
      ],
      "execution_count": null,
      "outputs": [
        {
          "output_type": "execute_result",
          "data": {
            "text/html": [
              "<div>\n",
              "<style scoped>\n",
              "    .dataframe tbody tr th:only-of-type {\n",
              "        vertical-align: middle;\n",
              "    }\n",
              "\n",
              "    .dataframe tbody tr th {\n",
              "        vertical-align: top;\n",
              "    }\n",
              "\n",
              "    .dataframe thead th {\n",
              "        text-align: right;\n",
              "    }\n",
              "</style>\n",
              "<table border=\"1\" class=\"dataframe\">\n",
              "  <thead>\n",
              "    <tr style=\"text-align: right;\">\n",
              "      <th></th>\n",
              "      <th>Descriptor</th>\n",
              "      <th>Statistics</th>\n",
              "      <th>p</th>\n",
              "      <th>alpha</th>\n",
              "      <th>Interpretation</th>\n",
              "    </tr>\n",
              "  </thead>\n",
              "  <tbody>\n",
              "    <tr>\n",
              "      <th>0</th>\n",
              "      <td>NumHAcceptors</td>\n",
              "      <td>2375552.0</td>\n",
              "      <td>5.697429e-12</td>\n",
              "      <td>0.05</td>\n",
              "      <td>Different distribution (reject H0)</td>\n",
              "    </tr>\n",
              "  </tbody>\n",
              "</table>\n",
              "</div>"
            ],
            "text/plain": [
              "      Descriptor  Statistics  ...  alpha                      Interpretation\n",
              "0  NumHAcceptors   2375552.0  ...   0.05  Different distribution (reject H0)\n",
              "\n",
              "[1 rows x 5 columns]"
            ]
          },
          "metadata": {
            "tags": []
          },
          "execution_count": 39
        }
      ]
    },
    {
      "cell_type": "markdown",
      "metadata": {
        "id": "p4QjdHVjKYum"
      },
      "source": [
        "#### **Interpretation of Statistical Results**"
      ]
    },
    {
      "cell_type": "markdown",
      "metadata": {
        "id": "mSoOBIqfLbDs"
      },
      "source": [
        "**bold text**##### **Box Plots**\n",
        "\n",
        "###### **pIC50 values**\n",
        "\n",
        "Taking a look at pIC50 values, the **actives** and **inactives** displayed ***statistically significant difference***, which is to be expected since threshold values (``IC50 < 1,000 nM = Actives while IC50 > 10,000 nM = Inactives``, corresponding to ``pIC50 > 6 = Actives and pIC50 < 5 = Inactives``) were used to define actives and inactives.\n",
        "\n",
        "###### **Lipinski's descriptors**\n",
        "\n",
        "All of the 4 Lipinski's descriptors exhibited ***statistically significant difference*** between the **actives** and **inactives**."
      ]
    },
    {
      "cell_type": "markdown",
      "metadata": {
        "id": "U-rK8l0wWnKK"
      },
      "source": [
        "## **Zip files**"
      ]
    },
    {
      "cell_type": "code",
      "metadata": {
        "id": "GW1ZSsfJWqbM",
        "colab": {
          "base_uri": "https://localhost:8080/"
        },
        "outputId": "f8fed6ac-70b1-4e2e-8799-c5e7dd069ea1"
      },
      "source": [
        "! zip -r results.zip . -i *.csv *.pdf"
      ],
      "execution_count": null,
      "outputs": [
        {
          "output_type": "stream",
          "text": [
            "  adding: plot_MW.pdf (deflated 34%)\n",
            "  adding: BACE1_03_bioactivity_data_curated.csv (deflated 85%)\n",
            "  adding: mannwhitneyu_NumHAcceptors.csv (deflated 10%)\n",
            "  adding: plot_bioactivity_class.pdf (deflated 39%)\n",
            "  adding: BACE1_05_bioactivity_data_2class_pIC50.csv (deflated 79%)\n",
            "  adding: plot_NumHAcceptors.pdf (deflated 38%)\n",
            "  adding: plot_LogP.pdf (deflated 36%)\n",
            "  adding: mannwhitneyu_pIC50.csv (deflated 14%)\n",
            "  adding: plot_MW_vs_LogP.pdf (deflated 1%)\n",
            "  adding: plot_NumHDonors.pdf (deflated 37%)\n",
            "  adding: plot_ic50.pdf (deflated 37%)\n",
            "  adding: mannwhitneyu_MW.csv (deflated 9%)\n",
            "  adding: mannwhitneyu_LogP.csv (deflated 8%)\n",
            "  adding: mannwhitneyu_NumHDonors.csv (deflated 11%)\n",
            "  adding: BACE1_04_bioactivity_data_3class_pIC50.csv (deflated 79%)\n"
          ],
          "name": "stdout"
        }
      ]
    },
    {
      "cell_type": "code",
      "metadata": {
        "id": "LMWOG2UIXEg-"
      },
      "source": [
        ""
      ],
      "execution_count": null,
      "outputs": []
    }
  ]
}